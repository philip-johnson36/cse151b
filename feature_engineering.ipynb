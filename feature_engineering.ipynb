{
 "cells": [
  {
   "attachments": {},
   "cell_type": "markdown",
   "metadata": {},
   "source": [
    "# Taxi Travel Data Analysis\n",
    "\n",
    "In this demo, we will be doing some demos on temporal feature engineering with the Kaggle Dataset"
   ]
  },
  {
   "attachments": {},
   "cell_type": "markdown",
   "metadata": {},
   "source": [
    "### Loading libraries, datasets"
   ]
  },
  {
   "cell_type": "code",
   "execution_count": 258,
   "metadata": {},
   "outputs": [],
   "source": [
    "import numpy as np, pandas as pd\n",
    "import matplotlib.pyplot as plt\n",
    "from torch.utils.data import DataLoader, Dataset\n",
    "import torch"
   ]
  },
  {
   "cell_type": "code",
   "execution_count": 259,
   "metadata": {},
   "outputs": [],
   "source": [
    "# These are all of the files you are given\n",
    "#df_tr = pd.read_csv(\"archive/train.csv\")\n"
   ]
  },
  {
   "cell_type": "code",
   "execution_count": 260,
   "metadata": {},
   "outputs": [],
   "source": [
    "#df_tr.head()\n",
    "# avg = df_tr['LEN'].mean()\n",
    "# print(avg)"
   ]
  },
  {
   "attachments": {},
   "cell_type": "markdown",
   "metadata": {},
   "source": [
    "### Get Computed Time from POLYLINE\n",
    "\n",
    "Our goal is to predict the travel-time of the taxi, which can be derived from the POLYLINE length.\n",
    "\n",
    "Recall:\n",
    "\n",
    "```\n",
    "The travel time of the trip (the prediction target of this project) is defined as the (number of points-1) x 15 seconds. \n",
    "For example, a trip with 101 data points in POLYLINE has a length of (101-1) * 15 = 1500 seconds. Some trips have missing \n",
    "data points in POLYLINE, indicated by MISSING_DATA column, and it is part of the challenge how you utilize this knowledge.\n",
    "```\n",
    "\n",
    "We are not doing anything with the MISSING_DATA. It is up to you to find a way to use (or ignore) that information."
   ]
  },
  {
   "cell_type": "code",
   "execution_count": 261,
   "metadata": {},
   "outputs": [],
   "source": [
    "# Over every single \n",
    "def polyline_to_trip_duration(polyline):\n",
    "  return max(polyline.count(\"[\") - 2, 0) * 15\n",
    "\n",
    "# This code creates a new column, \"LEN\", in our dataframe. The value is\n",
    "# the (polyline_length - 1) * 15, where polyline_length = count(\"[\") - 1\n",
    "# df_tr[\"LEN\"] = df_tr[\"POLYLINE\"].apply(polyline_to_trip_duration)"
   ]
  },
  {
   "cell_type": "code",
   "execution_count": 262,
   "metadata": {},
   "outputs": [],
   "source": [
    "from datetime import datetime\n",
    "def parse_time(x):\n",
    "  # We are using python's builtin datetime library\n",
    "  # https://docs.python.org/3/library/datetime.html#datetime.date.fromtimestamp\n",
    "\n",
    "  # Each x is essentially a 1 row, 1 column pandas Series\n",
    "  dt = datetime.fromtimestamp(x[\"TIMESTAMP\"])\n",
    "  return dt.year, dt.month, dt.day, dt.hour, dt.weekday()\n",
    "\n",
    "# Because we are assigning multiple values at a time, we need to \"expand\" our computed (year, month, day, hour, weekday) tuples on \n",
    "# the column axis, or axis 1\n",
    "# https://pandas.pydata.org/docs/reference/api/pandas.DataFrame.apply.html\n",
    "# df_tr[[\"YR\", \"MON\", \"DAY\", \"HR\", \"WK\"]] = df_tr[[\"TIMESTAMP\"]].apply(parse_time, axis=1, result_type=\"expand\")\n",
    "def parse_midnight_minutes(x):\n",
    "    dt = datetime.fromtimestamp(x[\"TIMESTAMP\"])\n",
    "    return dt.hour * 60 + dt.minute"
   ]
  },
  {
   "cell_type": "code",
   "execution_count": 263,
   "metadata": {},
   "outputs": [],
   "source": [
    "def onehot(x):\n",
    "    x=x.values[0]\n",
    "    if x==\"A\":\n",
    "        return 1, 0, 0\n",
    "    elif x==\"B\":\n",
    "        return 0, 1, 0\n",
    "    elif x==\"C\":\n",
    "        return 0, 0, 1\n",
    "    else:\n",
    "        return 0, 0, 0\n",
    "    \n",
    "# df_tr[[\"CALL_A\", \"CALL_B\", \"CALL_C\"]] = df_tr[[\"CALL_TYPE\"]].apply(onehot, axis=1, result_type=\"expand\")   \n",
    "# df_tr[[\"DAY_A\", \"DAY_B\", \"DAY_C\"]] = df_tr[[\"DAY_TYPE\"]].apply(onehot, axis=1, result_type=\"expand\")     \n"
   ]
  },
  {
   "attachments": {},
   "cell_type": "markdown",
   "metadata": {},
   "source": [
    "### Create a Prediction File"
   ]
  },
  {
   "cell_type": "code",
   "execution_count": 264,
   "metadata": {},
   "outputs": [],
   "source": [
    "# vals = df_tr[\"HR\"].value_counts()\n",
    "# print(vals)\n",
    "# def reduce(x):\n",
    "#     return x - 2013\n",
    "# hr_oh = torch.nn.functional.one_hot(torch.tensor(df_tr[\"HR\"].values))\n",
    "# print(hr_oh)\n",
    "# print(hr_oh.shape)"
   ]
  },
  {
   "cell_type": "code",
   "execution_count": 265,
   "metadata": {},
   "outputs": [],
   "source": [
    "# vals = df_tr[\"TAXI_ID\"].values\n",
    "# print(vals)\n",
    "# print(min(vals))\n",
    "# print(max(vals))\n",
    "\n",
    "# # df_tr[\"TAXI_ID\"] = df_tr[\"TAXI_ID\"].apply(reduce)\n",
    "# vals = df_tr[\"TAXI_ID\"].values\n",
    "# print(vals)\n",
    "# print(min(vals))\n",
    "# print(max(vals))\n",
    "# oh = torch.nn.functional.one_hot(torch.tensor(df_tr[\"TAXI_ID\"].values))\n",
    "# print(oh)\n",
    "# print(oh.shape)\n"
   ]
  },
  {
   "cell_type": "code",
   "execution_count": 266,
   "metadata": {},
   "outputs": [],
   "source": [
    "# df_tr[[\"CALL_A\", \"LEN\"]].values"
   ]
  },
  {
   "cell_type": "code",
   "execution_count": 267,
   "metadata": {},
   "outputs": [],
   "source": [
    "# Feature Trimming\n",
    "# mean, std = df_tr[\"LEN\"].mean(), df_tr[\"LEN\"].std()\n",
    "# median = df_tr[\"LEN\"].median()\n",
    "# outlier_threshold = 3\n",
    "# df_trimmed = df_tr[df_tr[\"LEN\"] < mean + outlier_threshold * std]\n",
    "# df_trimmed = df_trimmed[df_trimmed['MISSING_DATA'] == False]\n",
    "# print(\"Before Trimming: \" + str(len(df_tr)))\n",
    "# print(\"After Trimming: \" + str(len(df_trimmed)))\n",
    "\n",
    "# df_tr = df_trimmed"
   ]
  },
  {
   "cell_type": "code",
   "execution_count": 268,
   "metadata": {},
   "outputs": [
    {
     "name": "stdout",
     "output_type": "stream",
     "text": [
      "Before Trimming: 1710670\n",
      "After Trimming: 1656255\n",
      "ORIGIN_CALL\n",
      "2002.0     56688\n",
      "63882.0     6320\n",
      "2001.0      2397\n",
      "13168.0     1290\n",
      "6728.0      1089\n",
      "           ...  \n",
      "18954.0       50\n",
      "15826.0       50\n",
      "8110.0        50\n",
      "5093.0        50\n",
      "2983.0        50\n",
      "Name: count, Length: 734, dtype: int64\n"
     ]
    }
   ],
   "source": [
    "df_tr = pd.read_csv(\"archive/train.csv\")\n",
    "df_tr[\"LEN\"] = df_tr[\"POLYLINE\"].apply(polyline_to_trip_duration)\n",
    "mean, std = df_tr[\"LEN\"].mean(), df_tr[\"LEN\"].std()\n",
    "outlier_threshold = 3\n",
    "df_trimmed = df_tr[df_tr[\"LEN\"] < mean + outlier_threshold * std]\n",
    "df_trimmed = df_trimmed[df_trimmed['MISSING_DATA'] == False]\n",
    "df_trimmed = df_trimmed[df_trimmed['LEN'] != 0]\n",
    "print(\"Before Trimming: \" + str(len(df_tr)))\n",
    "print(\"After Trimming: \" + str(len(df_trimmed)))\n",
    "df_tr = df_trimmed\n",
    "\n",
    "\n",
    "\n",
    "trlen = len(df_tr)\n",
    "\n",
    "df_ts = pd.read_csv(\"archive/test_public.csv\")\n",
    "df_ts[\"POLYLINE\"]=\"trololololo\"\n",
    "\n",
    "\n",
    "\n",
    "df_both = pd.concat([df_tr, df_ts])\n",
    "df_both[\"LEN\"] = df_both[\"POLYLINE\"].apply(polyline_to_trip_duration)\n",
    "ocvc = df_both[\"ORIGIN_CALL\"].value_counts()\n",
    "def filterOC(x):\n",
    "    if pd.isnull(x):\n",
    "        return x\n",
    "    if(ocvc[x] < 50):\n",
    "        return None\n",
    "    return x\n",
    "df_both[\"ORIGIN_CALL\"] = df_both[\"ORIGIN_CALL\"].apply(filterOC)\n",
    "print(df_both[\"ORIGIN_CALL\"].value_counts())\n",
    "# # df_tr[[\"YR\", \"MON\", \"DAY\", \"HR\", \"WK\"]] = df_tr[[\"TIMESTAMP\"]].apply(parse_time, axis=1, result_type=\"expand\")\n",
    "#df_both[\"MIDMINS\"] = df_both[[\"TIMESTAMP\"]].apply(parse_midnight_minutes, axis=1, result_type=\"expand\")\n",
    "#df_tr[\"MIDMINS\"]=(df_tr[\"MIDMINS\"]-df_tr[\"MIDMINS\"].min())/(df_tr[\"MIDMINS\"].max()-df_tr[\"MIDMINS\"].min())\n",
    "df_both = pd.get_dummies(data=df_both, columns=['CALL_TYPE', \"ORIGIN_STAND\", \"ORIGIN_CALL\"])\n",
    "\n",
    "\n",
    "df_tr = df_both.iloc[:trlen]\n",
    "df_ts = df_both.iloc[trlen:]\n",
    "\n",
    "\n",
    "\n",
    "\n"
   ]
  },
  {
   "cell_type": "code",
   "execution_count": 269,
   "metadata": {},
   "outputs": [],
   "source": [
    "\n",
    "class MyDataset(Dataset):\n",
    "  def __init__(self, df):\n",
    "\n",
    "    boolcols = list(df.columns)\n",
    "    badcols = [\"TRIP_ID\",   'TIMESTAMP', 'MISSING_DATA', 'POLYLINE', 'LEN', \"TAXI_ID\", \"DAY_TYPE\"] \n",
    "    for b in badcols:\n",
    "      boolcols.remove(b)\n",
    "    # print(boolcols)\n",
    "    \n",
    "    \n",
    "         \n",
    "    boolz=df[boolcols].values\n",
    "    # intz = df[\"MIDMINS\"].values\n",
    "    # print(boolz)\n",
    "    y=df[\"LEN\"].values\n",
    "\n",
    "    booltens = torch.tensor(boolz,dtype=torch.float32)\n",
    "    # inttens = torch.tensor(intz,dtype=torch.float32).unsqueeze(1)\n",
    "\n",
    "    # print(booltens.shape)\n",
    "    # print(inttens.shape)\n",
    " \n",
    "    self.x_train=torch.cat([booltens], dim=1)\n",
    "    # print(self.x_train)\n",
    "    self.y_train=torch.tensor(y,dtype=torch.float32)\n",
    "    self.df = df\n",
    " \n",
    "  def __len__(self):\n",
    "    return len(self.y_train)\n",
    "   \n",
    "  def __getitem__(self,idx):\n",
    "    return self.x_train[idx],self.y_train[idx]"
   ]
  },
  {
   "cell_type": "code",
   "execution_count": 270,
   "metadata": {},
   "outputs": [
    {
     "name": "stdout",
     "output_type": "stream",
     "text": [
      "1490630 165625\n"
     ]
    }
   ],
   "source": [
    "from torch.utils.data import random_split\n",
    "trds=MyDataset(df_tr)\n",
    "trds, valds = random_split(trds, [0.9, 0.1])\n",
    "print(len(trds), len(valds))\n",
    "train_loader=DataLoader(trds,batch_size=256, shuffle=True)\n",
    "val_loader=DataLoader(valds)"
   ]
  },
  {
   "cell_type": "code",
   "execution_count": 274,
   "metadata": {},
   "outputs": [],
   "source": [
    "import torch.nn as nn\n",
    "import torch.nn.functional as F\n",
    "\n",
    "\n",
    "class Net(nn.Module):\n",
    "    def __init__(self):\n",
    "        super().__init__()\n",
    "        self.flatten = nn.Flatten(start_dim=1)\n",
    "        # self.conv1 = nn.Conv2d(3, 6, 5)\n",
    "        # self.pool = nn.MaxPool2d(2, 2)\n",
    "        # self.conv2 = nn.Conv2d(6, 16, 5)\n",
    "        self.dro = nn.Dropout(p=0.25)\n",
    "        self.fc1 = nn.Linear(800, 64)\n",
    "        self.fc2 = nn.Linear(64, 64)\n",
    "        self.fc3 = nn.Linear(64, 64)\n",
    "        self.fc4 = nn.Linear(64, 1)\n",
    "\n",
    "    def forward(self, x):\n",
    "\n",
    "        \n",
    "        x = F.relu(self.fc1(x))\n",
    "        x = self.dro(x)\n",
    "        x = F.relu(self.fc2(x))\n",
    "        # x = self.dro(x)\n",
    "        x = F.relu(self.fc3(x))\n",
    "        # x = self.dro(x)\n",
    "        x = self.fc4(x)\n",
    "        # x = torch.transpose(x, 0, 1)\n",
    "        return x\n",
    "\n",
    "\n",
    "net = Net()"
   ]
  },
  {
   "cell_type": "code",
   "execution_count": 275,
   "metadata": {},
   "outputs": [],
   "source": [
    "import torch.optim as optim\n",
    "def RMSELoss(yhat,y):\n",
    "    return torch.sqrt(torch.mean((yhat-y)**2))\n",
    "criterion = RMSELoss\n",
    "optimizer = optim.Adam(net.parameters(), lr=0.00001)"
   ]
  },
  {
   "cell_type": "code",
   "execution_count": 276,
   "metadata": {},
   "outputs": [
    {
     "name": "stdout",
     "output_type": "stream",
     "text": [
      "[1,  2000] loss: 792.049\n",
      "[1,  4000] loss: 789.285\n",
      "[2,  2000] loss: 759.867\n",
      "[2,  4000] loss: 719.510\n",
      "[3,  2000] loss: 576.321\n",
      "[3,  4000] loss: 483.109\n",
      "[4,  2000] loss: 409.220\n",
      "[4,  4000] loss: 402.724\n",
      "[5,  2000] loss: 397.162\n",
      "[5,  4000] loss: 397.131\n",
      "Finished Training\n"
     ]
    }
   ],
   "source": [
    "for epoch in range(5):  # loop over the dataset multiple times\n",
    "\n",
    "    running_loss = 0.0\n",
    "    for i, data in enumerate(train_loader, 0):\n",
    "\n",
    "        # get the inputs; data is a list of [inputs, labels]\n",
    "        inputs, labels = data\n",
    "\n",
    "        # zero the parameter gradients\n",
    "        optimizer.zero_grad()\n",
    "\n",
    "        # forward + backward + optimize\n",
    "        labels=labels.unsqueeze(1)\n",
    "        outputs = net(inputs)\n",
    "        \n",
    "        loss = criterion(outputs, labels)\n",
    "        loss.backward()\n",
    "        optimizer.step()\n",
    "\n",
    "        # print statistics\n",
    "        running_loss += loss.item()\n",
    "        if i % 2000 == 1999:    # print every 2000 mini-batches\n",
    "            #print(outputs[0], labels[0])\n",
    "            print(f'[{epoch + 1}, {i + 1:5d}] loss: {running_loss / 2000:.3f}')\n",
    "            running_loss = 0.0\n",
    "\n",
    "print('Finished Training')"
   ]
  },
  {
   "cell_type": "code",
   "execution_count": 277,
   "metadata": {},
   "outputs": [
    {
     "name": "stdout",
     "output_type": "stream",
     "text": [
      "Total Loss: 293.971\n"
     ]
    }
   ],
   "source": [
    "with torch.no_grad():\n",
    "    total_loss = 0.0\n",
    "    for i, data in enumerate(val_loader, 0):\n",
    "\n",
    "        # get the inputs; data is a list of [inputs, labels]\n",
    "        inputs, labels = data\n",
    "\n",
    "\n",
    "        # forward + backward + optimize\n",
    "        labels=labels\n",
    "        outputs = net(inputs)\n",
    "        \n",
    "        loss = criterion(outputs, labels)\n",
    "\n",
    "\n",
    "        # print statistics\n",
    "        total_loss += loss.item()\n",
    "        # if i%1000==0:\n",
    "        #     print(round(loss.item()), outputs, labels)\n",
    "\n",
    "print(f'Total Loss: {total_loss / len(val_loader):.3f}')\n"
   ]
  },
  {
   "cell_type": "code",
   "execution_count": 293,
   "metadata": {},
   "outputs": [
    {
     "name": "stdout",
     "output_type": "stream",
     "text": [
      "[620.2188720703125, 593.731201171875, 699.400146484375, 650.6419677734375, 753.5640258789062, 604.802978515625, 694.071533203125, 657.2363891601562, 610.19189453125, 797.7809448242188, 641.2932739257812, 674.2240600585938, 754.5389404296875, 595.491455078125, 701.7551879882812, 711.6497802734375, 714.005615234375, 736.8763427734375, 675.0890502929688, 693.82177734375, 817.0281982421875, 656.8974609375, 678.7122802734375, 798.902099609375, 606.0018920898438, 797.1664428710938, 798.7127685546875, 674.5899658203125, 701.8997802734375, 749.564697265625, 782.95556640625, 618.9921875, 718.44775390625, 770.1915893554688, 693.3446044921875, 708.3246459960938, 738.07568359375, 628.23193359375, 734.4510498046875, 677.9334716796875, 648.9638671875, 676.2977294921875, 654.2901611328125, 701.8482666015625, 677.7149047851562, 529.4425048828125, 706.01904296875, 602.449462890625, 665.5658569335938, 696.8382568359375, 660.140380859375, 648.845947265625, 568.448486328125, 747.193603515625, 843.5025024414062, 624.4278564453125, 740.7430419921875, 565.8084716796875, 773.8756713867188, 681.75244140625, 766.6134033203125, 704.1173706054688, 698.121337890625, 898.63623046875, 702.2877197265625, 748.02001953125, 749.2362060546875, 661.7490234375, 726.07763671875, 637.7561645507812, 694.0198974609375, 686.61181640625, 764.41943359375, 704.875732421875, 645.86181640625, 635.3023071289062, 556.826904296875, 688.2481689453125, 662.954833984375, 669.8411865234375, 719.3963623046875, 595.42333984375, 713.92041015625, 706.0280151367188, 664.7284545898438, 731.6392822265625, 627.9144287109375, 589.2467041015625, 603.5819091796875, 665.159423828125, 749.95361328125, 655.528564453125, 643.259033203125, 937.110107421875, 638.1114501953125, 679.179931640625, 607.3778076171875, 680.609130859375, 633.8134765625, 678.8013305664062, 686.0699462890625, 713.5667724609375, 693.231689453125, 672.0465087890625, 605.3050537109375, 577.9794921875, 746.522705078125, 532.92626953125, 735.3843383789062, 861.06689453125, 652.8388671875, 858.0979614257812, 556.315673828125, 604.3634033203125, 696.3935546875, 629.9295654296875, 619.0084838867188, 585.5982666015625, 699.4717407226562, 723.4407958984375, 589.6259765625, 710.6126708984375, 763.1820068359375, 648.4889526367188, 709.74951171875, 714.5861206054688, 698.9066772460938, 634.8385009765625, 605.9574584960938, 696.9129638671875, 620.6736450195312, 675.266357421875, 705.4552612304688, 659.67822265625, 650.9907836914062, 679.060791015625, 785.4730224609375, 688.7691040039062, 700.59033203125, 617.6346435546875, 597.585693359375, 588.4713134765625, 565.6654052734375, 829.5296020507812, 695.7898559570312, 678.18505859375, 559.2855834960938, 767.7387084960938, 753.7432861328125, 611.7830810546875, 774.0291137695312, 899.431640625, 690.0595092773438, 721.7376708984375, 629.55029296875, 508.66986083984375, 713.5943603515625, 620.2613525390625, 619.5208740234375, 684.7091674804688, 908.7315673828125, 690.3023681640625, 712.0792236328125, 657.1334228515625, 687.5355224609375, 608.071044921875, 755.1409912109375, 721.3317260742188, 650.9786376953125, 650.1522827148438, 771.2987670898438, 711.3658447265625, 742.20654296875, 659.167236328125, 663.9959716796875, 773.2723388671875, 698.8373413085938, 780.6292724609375, 699.687255859375, 641.3759765625, 637.6149291992188, 587.6685180664062, 640.9689331054688, 681.7030029296875, 671.799072265625, 671.3406372070312, 800.573486328125, 689.6064453125, 548.7657470703125, 664.2789916992188, 713.877197265625, 621.1127319335938, 712.5634765625, 631.4203491210938, 793.6054077148438, 716.8440551757812, 724.61181640625, 550.307373046875, 611.632568359375, 643.3323974609375, 652.2334594726562, 594.987548828125, 522.64013671875, 704.6170654296875, 733.2640380859375, 552.37744140625, 705.7440795898438, 772.2459716796875, 656.9700927734375, 680.4415283203125, 690.0849609375, 672.936767578125, 592.732421875, 704.828369140625, 615.2686157226562, 642.8731689453125, 658.5626220703125, 610.051513671875, 661.8463134765625, 729.0939331054688, 685.3160400390625, 725.2238159179688, 918.0380859375, 746.2567138671875, 681.5504150390625, 638.5491943359375, 691.0692138671875, 799.1341552734375, 698.0511474609375, 683.2188110351562, 660.6005859375, 598.9818115234375, 711.392333984375, 722.8272094726562, 615.3382568359375, 723.5296020507812, 729.1939086914062, 655.6026611328125, 679.7400512695312, 635.8709106445312, 680.4599609375, 615.9002685546875, 660.4488525390625, 716.9379272460938, 687.3053588867188, 699.64794921875, 631.9646606445312, 779.8651733398438, 638.59716796875, 650.367431640625, 640.53857421875, 708.9266357421875, 926.5437622070312, 667.23974609375, 635.9662475585938, 657.3126220703125, 708.2012939453125, 735.806396484375, 707.8486938476562, 783.6909790039062, 724.0914916992188, 613.9969482421875, 767.5963134765625, 697.7843017578125, 761.49267578125, 663.0134887695312, 746.5275268554688, 611.4325561523438, 755.3680419921875, 687.8085327148438, 794.3370971679688, 764.8697509765625, 643.0957641601562, 686.9497680664062, 669.44140625, 611.9814453125, 613.276611328125, 783.654052734375, 739.57470703125, 695.6876220703125, 741.7821044921875, 726.1710815429688, 660.4576416015625, 703.725341796875, 675.7064208984375, 719.1180419921875, 695.0430908203125, 647.9734497070312, 711.7054443359375, 695.1485595703125, 615.43115234375, 738.5528564453125, 551.1656494140625, 758.4766845703125, 628.1925048828125, 561.85400390625, 712.4454345703125, 690.323974609375, 682.0382690429688, 704.89794921875, 748.160400390625, 654.4813842773438, 725.9876708984375, 771.93212890625, 654.87353515625, 702.099365234375, 624.01806640625, 697.180908203125, 663.66455078125, 673.1318359375, 709.0400390625, 593.8173828125, 701.1725463867188, 699.2633666992188, 692.251953125, 636.2049560546875, 657.3297729492188, 678.6268310546875, 629.0040283203125, 591.290283203125]\n",
      "    TRIP_ID  TRAVEL_TIME\n",
      "0        T1   620.218872\n",
      "1        T2   593.731201\n",
      "2        T3   699.400146\n",
      "3        T4   650.641968\n",
      "4        T5   753.564026\n",
      "..      ...          ...\n",
      "315    T323   636.204956\n",
      "316    T324   657.329773\n",
      "317    T325   678.626831\n",
      "318    T326   629.004028\n",
      "319    T327   591.290283\n",
      "\n",
      "[320 rows x 2 columns]\n"
     ]
    }
   ],
   "source": [
    "testset = MyDataset(df_ts)\n",
    "testloader = DataLoader(testset)\n",
    "preds = []\n",
    "with torch.no_grad():\n",
    "    for data in testloader:\n",
    "        features, labels = data\n",
    "        # calculate outputs by running images through the network\n",
    "        output = net(features)\n",
    "        preds.append(output.item())\n",
    "ids = testset.df[\"TRIP_ID\"]        \n",
    "print(preds)\n",
    "d = {\"TRIP_ID\" : ids, \"TRAVEL_TIME\" : preds}\n",
    "newdf = pd.DataFrame(d)\n",
    "print(newdf)\n",
    "newdf.to_csv(\"my_pred.csv\", index=None)"
   ]
  },
  {
   "cell_type": "code",
   "execution_count": 279,
   "metadata": {},
   "outputs": [],
   "source": [
    "# # Sample submission file that is given on kaggle\n",
    "# df_sample = pd.read_csv(\"archive/sampleSubmission.csv\")\n",
    "\n",
    "# df_sample[\"TRAVEL_TIME\"] = 716.43\n",
    "\n",
    "# # mean(716.43) -> 792.73593\n",
    "# # median(600) -> 784.74219\n",
    "# df_sample.to_csv(\"my_pred.csv\", index=None)"
   ]
  },
  {
   "attachments": {},
   "cell_type": "markdown",
   "metadata": {},
   "source": [
    "### Do some Feature Analysis\n",
    "\n",
    "For our feature analysis, we are looking at which of our engineered features may be useful in making a taxicab time regression model"
   ]
  },
  {
   "cell_type": "code",
   "execution_count": 280,
   "metadata": {},
   "outputs": [
    {
     "name": "stdout",
     "output_type": "stream",
     "text": [
      "Using: 1656255/1656255\n"
     ]
    },
    {
     "ename": "KeyError",
     "evalue": "['YR']",
     "output_type": "error",
     "traceback": [
      "\u001b[1;31m---------------------------------------------------------------------------\u001b[0m",
      "\u001b[1;31mKeyError\u001b[0m                                  Traceback (most recent call last)",
      "Cell \u001b[1;32mIn[280], line 26\u001b[0m\n\u001b[0;32m     23\u001b[0m ax \u001b[39m=\u001b[39m axs[idx \u001b[39m/\u001b[39m\u001b[39m/\u001b[39m \u001b[39m3\u001b[39m, idx \u001b[39m%\u001b[39m \u001b[39m3\u001b[39m]\n\u001b[0;32m     25\u001b[0m \u001b[39m# Remove any rows with invalid values\u001b[39;00m\n\u001b[1;32m---> 26\u001b[0m df_subset \u001b[39m=\u001b[39m df_trimmed\u001b[39m.\u001b[39;49mdropna(subset\u001b[39m=\u001b[39;49mv)\n\u001b[0;32m     28\u001b[0m \u001b[39m# Create a histogram. Look up the documentation for more details\u001b[39;00m\n\u001b[0;32m     29\u001b[0m ax\u001b[39m.\u001b[39mhist2d(df_subset[v][:end], df_subset[\u001b[39m\"\u001b[39m\u001b[39mLEN\u001b[39m\u001b[39m\"\u001b[39m][:end], cmap\u001b[39m=\u001b[39m\u001b[39m\"\u001b[39m\u001b[39mCMRmap\u001b[39m\u001b[39m\"\u001b[39m, bins\u001b[39m=\u001b[39m(\u001b[39m120\u001b[39m,buckets))\n",
      "File \u001b[1;32mc:\\Users\\moond\\AppData\\Local\\Programs\\Python\\Python311\\Lib\\site-packages\\pandas\\core\\frame.py:6417\u001b[0m, in \u001b[0;36mDataFrame.dropna\u001b[1;34m(self, axis, how, thresh, subset, inplace, ignore_index)\u001b[0m\n\u001b[0;32m   6415\u001b[0m     check \u001b[39m=\u001b[39m indices \u001b[39m==\u001b[39m \u001b[39m-\u001b[39m\u001b[39m1\u001b[39m\n\u001b[0;32m   6416\u001b[0m     \u001b[39mif\u001b[39;00m check\u001b[39m.\u001b[39many():\n\u001b[1;32m-> 6417\u001b[0m         \u001b[39mraise\u001b[39;00m \u001b[39mKeyError\u001b[39;00m(np\u001b[39m.\u001b[39marray(subset)[check]\u001b[39m.\u001b[39mtolist())\n\u001b[0;32m   6418\u001b[0m     agg_obj \u001b[39m=\u001b[39m \u001b[39mself\u001b[39m\u001b[39m.\u001b[39mtake(indices, axis\u001b[39m=\u001b[39magg_axis)\n\u001b[0;32m   6420\u001b[0m \u001b[39mif\u001b[39;00m thresh \u001b[39mis\u001b[39;00m \u001b[39mnot\u001b[39;00m no_default:\n",
      "\u001b[1;31mKeyError\u001b[0m: ['YR']"
     ]
    },
    {
     "data": {
      "image/png": "[encoded data removed]",
      "text/plain": [
       "<Figure size 1800x1400 with 6 Axes>"
      ]
     },
     "metadata": {},
     "output_type": "display_data"
    }
   ],
   "source": [
    "# First n samples to analyze. Set to -1 to use all data\n",
    "end = -1\n",
    "\n",
    "outlier_threshold = 3\n",
    "\n",
    "# \"Choose all data, where the trip length is less than 3 standard deviations away from the mean\"\n",
    "# This is to remove outliers. Otherwise, our plots would look very squished (since there are some\n",
    "# VERRRRRY long taxi trips in the dataset)\n",
    "df_trimmed = df_tr[df_tr[\"LEN\"] < mean + outlier_threshold * std]\n",
    "\n",
    "# Because our y-values only take on multiples of 15, we want just enough buckets in a histogram\n",
    "# such that each buckets counts one value's frequency. (e.x. one bucket counts how many 15s trips, \n",
    "# how many 30s trips, etc. )\n",
    "buckets = (int(mean + outlier_threshold * std) // 15)\n",
    "\n",
    "print(f\"Using: {len(df_trimmed)}/{len(df_tr)}\")\n",
    "\n",
    "fig, axs = plt.subplots(nrows=2, ncols=3, figsize=(18,14))\n",
    "\n",
    "# Now, we visualize some features that we think might be useful\n",
    "for idx, v in enumerate([\"YR\", \"MON\", \"DAY\", \"HR\", \"WK\", \"ORIGIN_STAND\"]):\n",
    "  # idx // 3 = row, idx % 3 = column\n",
    "  ax = axs[idx // 3, idx % 3]\n",
    "  \n",
    "  # Remove any rows with invalid values\n",
    "  df_subset = df_trimmed.dropna(subset=v)\n",
    "  \n",
    "  # Create a histogram. Look up the documentation for more details\n",
    "  ax.hist2d(df_subset[v][:end], df_subset[\"LEN\"][:end], cmap=\"CMRmap\", bins=(120,buckets))\n",
    "  \n",
    "  # Some stylistic things to make the graphs look nice\n",
    "  ax.set_xlim(ax.get_xlim()[0] - 1, ax.get_xlim()[1] + 1)\n",
    "  ax.set_facecolor(\"black\")\n",
    "  ax.set_ylabel(\"seconds\", fontsize=18)\n",
    "  ax.set_title(f\"Feature: {v}\", fontsize=20)\n"
   ]
  },
  {
   "cell_type": "code",
   "execution_count": null,
   "metadata": {},
   "outputs": [],
   "source": [
    "plt.figure(figsize=(10,10))\n",
    "for v in [0, 5, 11, 17, 23]:\n",
    "  # Filter data where the HR matches v\n",
    "  hourly_data = df_trimmed[df_trimmed[\"HR\"] == v][\"LEN\"]\n",
    "  histogram, bin_boundary = np.histogram(hourly_data, bins=buckets)\n",
    "  histogram = histogram / len(hourly_data)\n",
    "  # The center is the left_bound and right_bound of a bucket\n",
    "  bin_centers = [(bin_boundary[i] + bin_boundary[i + 1]) / 2 for i in range(buckets)]\n",
    "  plt.plot(bin_centers, histogram, label=f\"HR={v}\")\n",
    "plt.legend();"
   ]
  },
  {
   "cell_type": "code",
   "execution_count": null,
   "metadata": {},
   "outputs": [],
   "source": []
  }
 ],
 "metadata": {
  "kernelspec": {
   "display_name": "mlenv",
   "language": "python",
   "name": "python3"
  },
  "language_info": {
   "codemirror_mode": {
    "name": "ipython",
    "version": 3
   },
   "file_extension": ".py",
   "mimetype": "text/x-python",
   "name": "python",
   "nbconvert_exporter": "python",
   "pygments_lexer": "ipython3",
   "version": "3.11.1"
  },
  "orig_nbformat": 4
 },
 "nbformat": 4,
 "nbformat_minor": 2
}
