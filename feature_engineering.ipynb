{
 "cells": [
  {
   "attachments": {},
   "cell_type": "markdown",
   "metadata": {},
   "source": [
    "# Taxi Travel Data Analysis\n",
    "\n",
    "In this demo, we will be doing some demos on temporal feature engineering with the Kaggle Dataset"
   ]
  },
  {
   "attachments": {},
   "cell_type": "markdown",
   "metadata": {},
   "source": [
    "### Loading libraries, datasets"
   ]
  },
  {
   "cell_type": "code",
   "execution_count": 23,
   "metadata": {},
   "outputs": [],
   "source": [
    "import numpy as np, pandas as pd\n",
    "import matplotlib.pyplot as plt\n",
    "from torch.utils.data import DataLoader, Dataset\n",
    "import torch"
   ]
  },
  {
   "cell_type": "code",
   "execution_count": 24,
   "metadata": {},
   "outputs": [],
   "source": [
    "# These are all of the files you are given\n",
    "#df_tr = pd.read_csv(\"archive/train.csv\")\n"
   ]
  },
  {
   "cell_type": "code",
   "execution_count": 25,
   "metadata": {},
   "outputs": [],
   "source": [
    "#df_tr.head()\n",
    "# avg = df_tr['LEN'].mean()\n",
    "# print(avg)"
   ]
  },
  {
   "attachments": {},
   "cell_type": "markdown",
   "metadata": {},
   "source": [
    "### Get Computed Time from POLYLINE\n",
    "\n",
    "Our goal is to predict the travel-time of the taxi, which can be derived from the POLYLINE length.\n",
    "\n",
    "Recall:\n",
    "\n",
    "```\n",
    "The travel time of the trip (the prediction target of this project) is defined as the (number of points-1) x 15 seconds. \n",
    "For example, a trip with 101 data points in POLYLINE has a length of (101-1) * 15 = 1500 seconds. Some trips have missing \n",
    "data points in POLYLINE, indicated by MISSING_DATA column, and it is part of the challenge how you utilize this knowledge.\n",
    "```\n",
    "\n",
    "We are not doing anything with the MISSING_DATA. It is up to you to find a way to use (or ignore) that information."
   ]
  },
  {
   "cell_type": "code",
   "execution_count": 26,
   "metadata": {},
   "outputs": [],
   "source": [
    "# Over every single \n",
    "def polyline_to_trip_duration(polyline):\n",
    "  return max(polyline.count(\"[\") - 2, 0) * 15\n",
    "\n",
    "# This code creates a new column, \"LEN\", in our dataframe. The value is\n",
    "# the (polyline_length - 1) * 15, where polyline_length = count(\"[\") - 1\n",
    "# df_tr[\"LEN\"] = df_tr[\"POLYLINE\"].apply(polyline_to_trip_duration)"
   ]
  },
  {
   "cell_type": "code",
   "execution_count": 27,
   "metadata": {},
   "outputs": [],
   "source": [
    "from datetime import datetime\n",
    "def parse_time(x):\n",
    "  # We are using python's builtin datetime library\n",
    "  # https://docs.python.org/3/library/datetime.html#datetime.date.fromtimestamp\n",
    "\n",
    "  # Each x is essentially a 1 row, 1 column pandas Series\n",
    "  dt = datetime.fromtimestamp(x[\"TIMESTAMP\"])\n",
    "  return dt.year, dt.month, dt.day, dt.hour, dt.weekday()\n",
    "\n",
    "# Because we are assigning multiple values at a time, we need to \"expand\" our computed (year, month, day, hour, weekday) tuples on \n",
    "# the column axis, or axis 1\n",
    "# https://pandas.pydata.org/docs/reference/api/pandas.DataFrame.apply.html\n",
    "# df_tr[[\"YR\", \"MON\", \"DAY\", \"HR\", \"WK\"]] = df_tr[[\"TIMESTAMP\"]].apply(parse_time, axis=1, result_type=\"expand\")\n",
    "def parse_midnight_minutes(x):\n",
    "    dt = datetime.fromtimestamp(x[\"TIMESTAMP\"])\n",
    "    return dt.hour * 60 + dt.minute"
   ]
  },
  {
   "cell_type": "code",
   "execution_count": 28,
   "metadata": {},
   "outputs": [],
   "source": [
    "def onehot(x):\n",
    "    x=x.values[0]\n",
    "    if x==\"A\":\n",
    "        return 1, 0, 0\n",
    "    elif x==\"B\":\n",
    "        return 0, 1, 0\n",
    "    elif x==\"C\":\n",
    "        return 0, 0, 1\n",
    "    else:\n",
    "        return 0, 0, 0\n",
    "    \n",
    "# df_tr[[\"CALL_A\", \"CALL_B\", \"CALL_C\"]] = df_tr[[\"CALL_TYPE\"]].apply(onehot, axis=1, result_type=\"expand\")   \n",
    "# df_tr[[\"DAY_A\", \"DAY_B\", \"DAY_C\"]] = df_tr[[\"DAY_TYPE\"]].apply(onehot, axis=1, result_type=\"expand\")     \n"
   ]
  },
  {
   "attachments": {},
   "cell_type": "markdown",
   "metadata": {},
   "source": [
    "### Create a Prediction File"
   ]
  },
  {
   "cell_type": "code",
   "execution_count": 29,
   "metadata": {},
   "outputs": [],
   "source": [
    "# vals = df_tr[\"HR\"].value_counts()\n",
    "# print(vals)\n",
    "# def reduce(x):\n",
    "#     return x - 2013\n",
    "# hr_oh = torch.nn.functional.one_hot(torch.tensor(df_tr[\"HR\"].values))\n",
    "# print(hr_oh)\n",
    "# print(hr_oh.shape)"
   ]
  },
  {
   "cell_type": "code",
   "execution_count": 30,
   "metadata": {},
   "outputs": [],
   "source": [
    "# vals = df_tr[\"TAXI_ID\"].values\n",
    "# print(vals)\n",
    "# print(min(vals))\n",
    "# print(max(vals))\n",
    "\n",
    "# # df_tr[\"TAXI_ID\"] = df_tr[\"TAXI_ID\"].apply(reduce)\n",
    "# vals = df_tr[\"TAXI_ID\"].values\n",
    "# print(vals)\n",
    "# print(min(vals))\n",
    "# print(max(vals))\n",
    "# oh = torch.nn.functional.one_hot(torch.tensor(df_tr[\"TAXI_ID\"].values))\n",
    "# print(oh)\n",
    "# print(oh.shape)\n"
   ]
  },
  {
   "cell_type": "code",
   "execution_count": 31,
   "metadata": {},
   "outputs": [],
   "source": [
    "# df_tr[[\"CALL_A\", \"LEN\"]].values"
   ]
  },
  {
   "cell_type": "code",
   "execution_count": 32,
   "metadata": {},
   "outputs": [],
   "source": [
    "# Feature Trimming\n",
    "# mean, std = df_tr[\"LEN\"].mean(), df_tr[\"LEN\"].std()\n",
    "# median = df_tr[\"LEN\"].median()\n",
    "# outlier_threshold = 3\n",
    "# df_trimmed = df_tr[df_tr[\"LEN\"] < mean + outlier_threshold * std]\n",
    "# df_trimmed = df_trimmed[df_trimmed['MISSING_DATA'] == False]\n",
    "# print(\"Before Trimming: \" + str(len(df_tr)))\n",
    "# print(\"After Trimming: \" + str(len(df_trimmed)))\n",
    "\n",
    "# df_tr = df_trimmed"
   ]
  },
  {
   "cell_type": "code",
   "execution_count": 33,
   "metadata": {},
   "outputs": [
    {
     "name": "stdout",
     "output_type": "stream",
     "text": [
      "Before Trimming: 1710670\n",
      "After Trimming: 1656255\n",
      "2002.0     56688\n",
      "63882.0     6320\n",
      "2001.0      2397\n",
      "13168.0     1290\n",
      "6728.0      1089\n",
      "           ...  \n",
      "34861.0      209\n",
      "6715.0       206\n",
      "18820.0      206\n",
      "15356.0      201\n",
      "15420.0      201\n",
      "Name: ORIGIN_CALL, Length: 68, dtype: int64\n"
     ]
    }
   ],
   "source": [
    "df_tr = pd.read_csv(\"archive/train.csv\")\n",
    "df_tr[\"LEN\"] = df_tr[\"POLYLINE\"].apply(polyline_to_trip_duration)\n",
    "mean, std = df_tr[\"LEN\"].mean(), df_tr[\"LEN\"].std()\n",
    "outlier_threshold = 3\n",
    "df_trimmed = df_tr[df_tr[\"LEN\"] < mean + outlier_threshold * std]\n",
    "df_trimmed = df_trimmed[df_trimmed['MISSING_DATA'] == False]\n",
    "df_trimmed = df_trimmed[df_trimmed['LEN'] != 0]\n",
    "print(\"Before Trimming: \" + str(len(df_tr)))\n",
    "print(\"After Trimming: \" + str(len(df_trimmed)))\n",
    "df_tr = df_trimmed\n",
    "\n",
    "\n",
    "\n",
    "trlen = len(df_tr)\n",
    "\n",
    "df_ts = pd.read_csv(\"archive/test_public.csv\")\n",
    "df_ts[\"POLYLINE\"]=\"trololololo\"\n",
    "\n",
    "\n",
    "df_both = pd.concat([df_tr, df_ts])\n",
    "df_both[\"LEN\"] = df_both[\"POLYLINE\"].apply(polyline_to_trip_duration)\n",
    "ocvc = df_both[\"ORIGIN_CALL\"].value_counts()\n",
    "def filterOC(x):\n",
    "    if pd.isnull(x):\n",
    "        return x\n",
    "    if(ocvc[x] < 200):\n",
    "        return None\n",
    "    return x\n",
    "df_both[\"ORIGIN_CALL\"] = df_both[\"ORIGIN_CALL\"].apply(filterOC)\n",
    "print(df_both[\"ORIGIN_CALL\"].value_counts())\n",
    "# # df_tr[[\"YR\", \"MON\", \"DAY\", \"HR\", \"WK\"]] = df_tr[[\"TIMESTAMP\"]].apply(parse_time, axis=1, result_type=\"expand\")\n",
    "df_both[\"MIDMINS\"] = df_both[[\"TIMESTAMP\"]].apply(parse_midnight_minutes, axis=1, result_type=\"expand\")\n",
    "#df_tr[\"MIDMINS\"]=(df_tr[\"MIDMINS\"]-df_tr[\"MIDMINS\"].min())/(df_tr[\"MIDMINS\"].max()-df_tr[\"MIDMINS\"].min())\n",
    "df_both = pd.get_dummies(data=df_both, columns=['CALL_TYPE', \"ORIGIN_STAND\", \"ORIGIN_CALL\"])\n",
    "\n",
    "\n",
    "df_tr = df_both.iloc[:trlen]\n",
    "df_ts = df_both.iloc[trlen:]\n",
    "\n",
    "\n",
    "\n",
    "\n"
   ]
  },
  {
   "cell_type": "code",
   "execution_count": 34,
   "metadata": {},
   "outputs": [],
   "source": [
    "\n",
    "class MyDataset(Dataset):\n",
    "  def __init__(self, df):\n",
    "\n",
    "    boolcols = list(df.columns)\n",
    "    badcols = [\"TRIP_ID\", 'MIDMINS',  'TIMESTAMP', 'MISSING_DATA', 'POLYLINE', 'LEN', \"TAXI_ID\", \"DAY_TYPE\"] \n",
    "    for b in badcols:\n",
    "      boolcols.remove(b)\n",
    "    # print(boolcols)\n",
    "    \n",
    "    \n",
    "         \n",
    "    boolz=df[boolcols].values\n",
    "    intz = df[\"MIDMINS\"].values\n",
    "    # print(boolz)\n",
    "    y=df[\"LEN\"].values\n",
    "\n",
    "    booltens = torch.tensor(boolz,dtype=torch.float32)\n",
    "    inttens = torch.tensor(intz,dtype=torch.float32).unsqueeze(1)\n",
    "\n",
    "    # print(booltens.shape)\n",
    "    # print(inttens.shape)\n",
    " \n",
    "    self.x_train=torch.cat([booltens, inttens], dim=1)\n",
    "    # print(self.x_train)\n",
    "    self.y_train=torch.tensor(y,dtype=torch.float32)\n",
    "    self.df = df\n",
    " \n",
    "  def __len__(self):\n",
    "    return len(self.y_train)\n",
    "   \n",
    "  def __getitem__(self,idx):\n",
    "    return self.x_train[idx],self.y_train[idx]"
   ]
  },
  {
   "cell_type": "code",
   "execution_count": 35,
   "metadata": {},
   "outputs": [],
   "source": [
    "from torch.utils.data import random_split\n",
    "trds=MyDataset(df_tr)\n",
    "# trds, valds = random_split(trds, [0.9, 0.1])\n",
    "# print(len(trds), len(valds))\n",
    "train_loader=DataLoader(trds,batch_size=256, shuffle=True)\n",
    "# val_loader=DataLoader(valds)"
   ]
  },
  {
   "cell_type": "code",
   "execution_count": 36,
   "metadata": {},
   "outputs": [],
   "source": [
    "import torch.nn as nn\n",
    "import torch.nn.functional as F\n",
    "\n",
    "\n",
    "class Net(nn.Module):\n",
    "    def __init__(self):\n",
    "        super().__init__()\n",
    "        self.flatten = nn.Flatten(start_dim=1)\n",
    "        # self.conv1 = nn.Conv2d(3, 6, 5)\n",
    "        # self.pool = nn.MaxPool2d(2, 2)\n",
    "        # self.conv2 = nn.Conv2d(6, 16, 5)\n",
    "        self.dro = nn.Dropout(p=0.25)\n",
    "        self.fc1 = nn.Linear(135, 64)\n",
    "        self.fc2 = nn.Linear(64, 64)\n",
    "        self.fc3 = nn.Linear(64, 64)\n",
    "        self.fc4 = nn.Linear(64, 1)\n",
    "\n",
    "    def forward(self, x):\n",
    "\n",
    "        \n",
    "        x = F.relu(self.fc1(x))\n",
    "        x = self.dro(x)\n",
    "        x = F.relu(self.fc2(x))\n",
    "        # x = self.dro(x)\n",
    "        x = F.relu(self.fc3(x))\n",
    "        # x = self.dro(x)\n",
    "        x = self.fc4(x)\n",
    "        # x = torch.transpose(x, 0, 1)\n",
    "        return x\n",
    "\n",
    "\n",
    "net = Net()"
   ]
  },
  {
   "cell_type": "code",
   "execution_count": 37,
   "metadata": {},
   "outputs": [],
   "source": [
    "import torch.optim as optim\n",
    "def RMSELoss(yhat,y):\n",
    "    return torch.sqrt(torch.mean((yhat-y)**2))\n",
    "criterion = RMSELoss\n",
    "optimizer = optim.Adam(net.parameters(), lr=0.00001)"
   ]
  },
  {
   "cell_type": "code",
   "execution_count": 82,
   "metadata": {},
   "outputs": [
    {
     "name": "stdout",
     "output_type": "stream",
     "text": [
      "[1,  2000] loss: 484.129\n",
      "[1,  4000] loss: 453.523\n",
      "[1,  6000] loss: 424.145\n",
      "[1,  6470] loss: 96.645\n",
      "Epoch: 1, steps:6470\n",
      "[2,  2000] loss: 405.112\n",
      "[2,  4000] loss: 397.786\n",
      "[2,  6000] loss: 395.322\n",
      "[2,  6470] loss: 93.050\n",
      "Epoch: 2, steps:12940\n",
      "[3,  2000] loss: 393.905\n",
      "[3,  4000] loss: 392.123\n",
      "[3,  6000] loss: 391.394\n",
      "[3,  6470] loss: 91.733\n",
      "Epoch: 3, steps:19410\n",
      "[4,  2000] loss: 390.579\n",
      "[4,  4000] loss: 389.991\n",
      "[4,  6000] loss: 390.589\n",
      "[4,  6470] loss: 91.959\n",
      "Epoch: 4, steps:25880\n",
      "[5,  2000] loss: 390.465\n",
      "[5,  4000] loss: 390.346\n",
      "[5,  6000] loss: 388.352\n",
      "[5,  6470] loss: 91.447\n",
      "Epoch: 5, steps:32350\n",
      "Finished Training\n",
      "32350\n"
     ]
    }
   ],
   "source": [
    "losses = []\n",
    "total_loss = 0.0\n",
    "iter = 0\n",
    "for epoch in range(5):  # loop over the dataset multiple times\n",
    "    running_loss = 0.0\n",
    "    for i, data in enumerate(train_loader, 0):\n",
    "        iter += 1\n",
    "        # get the inputs; data is a list of [inputs, labels]\n",
    "        inputs, labels = data\n",
    "\n",
    "        # zero the parameter gradients\n",
    "        optimizer.zero_grad()\n",
    "\n",
    "        # forward + backward + optimize\n",
    "        labels=labels.unsqueeze(1)\n",
    "        outputs = net(inputs)\n",
    "        \n",
    "        loss = criterion(outputs, labels)\n",
    "        loss.backward()\n",
    "        optimizer.step()\n",
    "\n",
    "        # print statistics\n",
    "        running_loss += loss.item()\n",
    "        total_loss += loss.item()\n",
    "        losses.append(total_loss / iter)\n",
    "        if i % 2000 == 1999:    # print every 2000 mini-batches\n",
    "            #print(outputs[0], labels[0])\n",
    "            print(f'[{epoch + 1}, {i + 1:5d}] loss: {running_loss / 2000:.3f}')\n",
    "            running_loss = 0.0\n",
    "    print(f'[{epoch + 1}, {i + 1:5d}] loss: {running_loss / 2000:.3f}')\n",
    "    print(\"Epoch: \" + str(epoch + 1) + \", steps:\" + str(iter))\n",
    "    # epoch_loss = 0.0\n",
    "\n",
    "print('Finished Training')\n",
    "print(len(losses))\n"
   ]
  },
  {
   "cell_type": "code",
   "execution_count": 138,
   "metadata": {},
   "outputs": [
    {
     "name": "stdout",
     "output_type": "stream",
     "text": [
      "[766.5413208007812, 667.6160888671875, 767.7797241210938, 634.6720581054688, 725.2482299804688, 712.5795288085938, 767.0057373046875, 707.9356079101562, 745.2899169921875, 769.1729736328125, 600.3084716796875, 731.551513671875, 731.0870971679688, 738.421142578125, 732.9447021484375, 734.6474609375, 731.8611450195312, 733.4090576171875, 767.3152465820312, 737.124267578125, 766.3865966796875, 707.7808837890625, 709.622802734375, 766.2317504882812, 658.4505004882812, 732.4895629882812, 767.0057373046875, 766.2317504882812, 636.6326293945312, 767.6249389648438, 767.9345092773438, 667.1516723632812, 732.3255004882812, 730.9323120117188, 732.7899169921875, 736.9694213867188, 864.7465209960938, 594.0904541015625, 766.3865966796875, 648.3621215820312, 633.3643798828125, 731.0870971679688, 732.3255004882812, 745.9091796875, 626.0264282226562, 631.1588745117188, 732.015869140625, 731.551513671875, 572.9459838867188, 600.1536254882812, 621.6449584960938, 678.3794555664062, 593.7809448242188, 767.7797241210938, 767.6249389648438, 598.6880493164062, 745.75439453125, 641.5758666992188, 738.6077880859375, 708.7095947265625, 766.6961059570312, 731.2418823242188, 731.551513671875, 864.0013427734375, 744.5159912109375, 745.9091796875, 767.1605834960938, 711.3412475585938, 732.4802856445312, 619.477783203125, 742.3338012695312, 735.1118774414062, 766.5413208007812, 733.8734741210938, 679.1870727539062, 766.48974609375, 607.9545288085938, 766.450927734375, 766.48974609375, 766.3667602539062, 744.7754516601562, 731.6060791015625, 744.7495727539062, 744.671875, 697.1724853515625, 744.7625122070312, 766.4315185546875, 766.450927734375, 652.5877075195312, 744.7495727539062, 893.2528076171875, 766.4315185546875, 766.4443969726562, 893.3304443359375, 639.8258666992188, 766.276123046875, 744.671875, 744.7172241210938, 744.7948608398438, 766.41845703125, 697.1077880859375, 761.0081787109375, 766.43798828125, 707.961181640625, 707.9675903320312, 744.807861328125, 780.6942138671875, 674.3172607421875, 761.0794067382812, 893.3304443359375, 744.7819213867188, 893.323974609375, 659.5188598632812, 774.1248779296875, 744.7819213867188, 766.476806640625, 684.2409057617188, 655.35205078125, 766.4249877929688, 710.9800415039062, 744.7754516601562, 744.8142700195312, 744.8272094726562, 744.7948608398438, 707.8964233398438, 675.8264770507812, 766.450927734375, 744.7754516601562, 766.412109375, 707.9481811523438, 707.97412109375, 679.2130126953125, 765.9934692382812, 766.48974609375, 766.48974609375, 766.43798828125, 799.8953857421875, 684.2861938476562, 744.7689819335938, 744.7560424804688, 766.4703369140625, 707.9675903320312, 744.684814453125, 799.707763671875, 744.788330078125, 744.7948608398438, 652.65234375, 766.412109375, 761.0276489257812, 667.8934936523438, 744.807861328125, 864.689208984375, 734.0282592773438, 709.947998046875, 735.1118774414062, 662.1952514648438, 748.8280029296875, 709.793212890625, 670.2476806640625, 769.4824829101562, 865.033203125, 734.9570922851562, 710.5672607421875, 644.8265991210938, 710.2576293945312, 597.6509399414062, 741.7606201171875, 710.2576293945312, 733.2543334960938, 727.7249755859375, 710.3848876953125, 737.1334228515625, 733.8734741210938, 625.8245239257812, 633.9835815429688, 733.2543334960938, 749.159912109375, 709.793212890625, 711.8056030273438, 710.5672607421875, 674.2445068359375, 636.9940185546875, 710.7220458984375, 733.4090576171875, 651.1485595703125, 733.2543334960938, 864.9185180664062, 600.3909301757812, 637.3035888671875, 739.6969604492188, 779.6744384765625, 575.5774536132812, 710.102783203125, 734.3378295898438, 749.7568969726562, 733.5638427734375, 733.2543334960938, 575.1130981445312, 741.1300659179688, 675.0184936523438, 745.2000732421875, 709.947998046875, 638.5153198242188, 737.2789916992188, 733.7186889648438, 579.3770141601562, 729.1182250976562, 709.793212890625, 709.947998046875, 737.4338989257812, 671.7957153320312, 637.3035888671875, 738.7797241210938, 680.5465698242188, 628.01611328125, 713.9727783203125, 621.1358032226562, 652.7772216796875, 637.8709106445312, 769.4824829101562, 739.5249633789062, 735.4214477539062, 869.7338256835938, 735.2666625976562, 746.06396484375, 631.2157592773438, 733.8734741210938, 864.8612060546875, 592.1570434570312, 655.1168823242188, 591.9606323242188, 654.7387084960938, 654.6441040039062, 654.7387084960938, 655.1168823242188, 655.0223388671875, 655.4004516601562, 654.7387084960938, 654.1582641601562, 563.5797119140625, 655.21142578125, 655.305908203125, 548.2809448242188, 650.4533081054688, 655.0223388671875, 653.7785034179688, 592.1324462890625, 653.8544311523438, 654.9277954101562, 548.4747924804688, 606.2261352539062, 655.5896606445312, 778.2391357421875, 654.2341918945312, 548.4747924804688, 655.305908203125, 655.4951171875, 654.7387084960938, 655.4951171875, 655.305908203125, 655.21142578125, 655.21142578125, 654.7387084960938, 654.549560546875, 655.4951171875, 548.9857788085938, 655.4004516601562, 655.305908203125, 654.833251953125, 654.0823364257812, 655.1168823242188, 655.5896606445312, 654.2341918945312, 568.6366577148438, 655.1168823242188, 558.3601684570312, 549.3690795898438, 655.4951171875, 655.1168823242188, 655.5896606445312, 651.083251953125, 655.5896606445312, 655.1168823242188, 549.1135864257812, 654.833251953125, 649.5491943359375, 655.1168823242188, 654.4620361328125, 655.1168823242188, 655.21142578125, 636.194580078125, 756.9517211914062, 730.073974609375, 752.1364135742188, 729.7299194335938, 642.8828125, 729.443359375, 662.4234619140625, 751.2764892578125, 752.1364135742188, 760.7350463867188, 755.174560546875, 729.500732421875, 760.8497314453125, 729.6726684570312, 729.6726684570312, 729.5579833984375, 729.6152954101562, 751.3912353515625, 729.6726684570312, 698.288330078125, 730.3604736328125, 736.8955078125, 754.887939453125, 752.021728515625, 729.9592895507812, 663.340576171875, 751.1618041992188, 729.500732421875, 730.0166015625]\n",
      "    TRIP_ID  TRAVEL_TIME\n",
      "0        T1   766.541321\n",
      "1        T2   667.616089\n",
      "2        T3   767.779724\n",
      "3        T4   634.672058\n",
      "4        T5   725.248230\n",
      "..      ...          ...\n",
      "315    T323   729.959290\n",
      "316    T324   663.340576\n",
      "317    T325   751.161804\n",
      "318    T326   729.500732\n",
      "319    T327   730.016602\n",
      "\n",
      "[320 rows x 2 columns]\n",
      "mean 707.0651416778564\n",
      "std 64.76522397832272\n",
      "median 729.6439819335938\n",
      "min 548.2809448242188\n",
      "max 893.3304443359375\n",
      "----------\n"
     ]
    },
    {
     "data": {
      "text/plain": [
       "<seaborn.axisgrid.FacetGrid at 0x29cc617bdf0>"
      ]
     },
     "execution_count": 138,
     "metadata": {},
     "output_type": "execute_result"
    },
    {
     "data": {
      "image/png": "[encoded data removed]",
      "text/plain": [
       "<Figure size 500x500 with 1 Axes>"
      ]
     },
     "metadata": {},
     "output_type": "display_data"
    }
   ],
   "source": [
    "import seaborn as sns\n",
    "testset = MyDataset(df_ts)\n",
    "testloader = DataLoader(testset)\n",
    "preds = []\n",
    "with torch.no_grad():\n",
    "    for data in testloader:\n",
    "        features, labels = data\n",
    "        # calculate outputs by running images through the network\n",
    "        output = net(features)\n",
    "        preds.append(output.item())\n",
    "ids = testset.df[\"TRIP_ID\"]        \n",
    "print(preds)\n",
    "d = {\"TRIP_ID\" : ids, \"TRAVEL_TIME\" : preds}\n",
    "newdf = pd.DataFrame(d)\n",
    "print(newdf)\n",
    "newdf.to_csv(\"my_pred.csv\", index=None)\n",
    "labels = preds\n",
    "# print(labels)\n",
    "print('mean', np.mean(labels))\n",
    "print('std', np.std(labels))\n",
    "print('median', np.median(labels))\n",
    "print('min', np.min(labels))\n",
    "print('max', np.max(labels))\n",
    "print('----------')\n",
    "sns.displot(labels).set(title='Travel Times Generated by Neural Network')"
   ]
  },
  {
   "attachments": {},
   "cell_type": "markdown",
   "metadata": {},
   "source": []
  },
  {
   "cell_type": "code",
   "execution_count": 89,
   "metadata": {},
   "outputs": [
    {
     "name": "stderr",
     "output_type": "stream",
     "text": [
      "No artists with labels found to put in legend.  Note that artists whose label start with an underscore are ignored when legend() is called with no argument.\n"
     ]
    },
    {
     "data": {
      "image/png": "[encoded data removed]",
      "text/plain": [
       "<Figure size 640x480 with 1 Axes>"
      ]
     },
     "metadata": {},
     "output_type": "display_data"
    }
   ],
   "source": [
    "xRange = range(1, len(losses) + 1)\n",
    "\n",
    "plt.plot(xRange, losses)\n",
    "\n",
    "plt.xlabel(\"Training steps\")\n",
    "plt.ylabel(\"Training loss\")\n",
    "plt.title(\"RMSE Loss as Neural Network is Trained\")\n",
    "plt.legend()\n",
    "plt.show()"
   ]
  },
  {
   "cell_type": "code",
   "execution_count": 18,
   "metadata": {},
   "outputs": [
    {
     "data": {
      "text/plain": [
       "tensor([[0.0000e+00, 0.0000e+00, 1.0000e+00,  ..., 0.0000e+00, 0.0000e+00,\n",
       "         1.0200e+03],\n",
       "        [0.0000e+00, 1.0000e+00, 0.0000e+00,  ..., 0.0000e+00, 0.0000e+00,\n",
       "         1.0280e+03],\n",
       "        [0.0000e+00, 0.0000e+00, 1.0000e+00,  ..., 0.0000e+00, 0.0000e+00,\n",
       "         1.0220e+03],\n",
       "        ...,\n",
       "        [0.0000e+00, 0.0000e+00, 1.0000e+00,  ..., 0.0000e+00, 0.0000e+00,\n",
       "         9.9600e+02],\n",
       "        [0.0000e+00, 1.0000e+00, 0.0000e+00,  ..., 0.0000e+00, 0.0000e+00,\n",
       "         5.0300e+02],\n",
       "        [0.0000e+00, 1.0000e+00, 0.0000e+00,  ..., 0.0000e+00, 0.0000e+00,\n",
       "         7.5900e+02]])"
      ]
     },
     "execution_count": 18,
     "metadata": {},
     "output_type": "execute_result"
    }
   ],
   "source": []
  },
  {
   "cell_type": "code",
   "execution_count": 78,
   "metadata": {},
   "outputs": [
    {
     "name": "stdout",
     "output_type": "stream",
     "text": [
      "(1656255, 142)\n",
      "i:  0\n",
      "i:  100000\n",
      "i:  200000\n",
      "i:  300000\n",
      "i:  400000\n",
      "i:  500000\n",
      "i:  600000\n",
      "i:  700000\n",
      "i:  800000\n",
      "i:  900000\n",
      "i:  1000000\n",
      "i:  1100000\n",
      "i:  1200000\n",
      "i:  1300000\n",
      "i:  1400000\n",
      "i:  1500000\n",
      "i:  1600000\n"
     ]
    }
   ],
   "source": [
    "import ast\n",
    "net.eval()\n",
    "# Create a list to store the losses\n",
    "data_point_losses = []\n",
    "\n",
    "# Iterate over the dataset and compute the losses\n",
    "with torch.no_grad():\n",
    "    print(trds.df.shape)\n",
    "    for i in range(trds.df.shape[0]):\n",
    "        if i % 100000 == 0:\n",
    "            print(\"i: \", i)\n",
    "        # print(trds.df[i:i+1])\n",
    "        input = trds.x_train[i]\n",
    "        output = net(input)\n",
    "        label = trds.y_train[i]\n",
    "        # print(input)\n",
    "        # print('output: ', output.item())\n",
    "        # print('label: ', label.item())\n",
    "        # print('loss: ', criterion(output.item(), label).item())\n",
    "        loss = criterion(output, label)\n",
    "        data_point_losses.append(loss.item())  # Append the loss value to the list\n",
    "\n",
    "# Convert the losses to a tensor\n",
    "loss_tensor = torch.tensor(data_point_losses)\n"
   ]
  },
  {
   "cell_type": "code",
   "execution_count": 88,
   "metadata": {},
   "outputs": [
    {
     "name": "stdout",
     "output_type": "stream",
     "text": [
      "[[-8.669106, 41.235093], [-8.669178, 41.236551], [-8.669385, 41.238252], [-8.668089, 41.237118], [-8.667459, 41.234994], [-8.666766, 41.232825], [-8.667801, 41.230773], [-8.66853, 41.228127], [-8.669052, 41.225679], [-8.667945, 41.224293], [-8.665596, 41.225652], [-8.661996, 41.225841], [-8.658108, 41.226984], [-8.654913, 41.229216], [-8.653293, 41.23233], [-8.653563, 41.236083], [-8.650467, 41.239143], [-8.646075, 41.240898], [-8.640945, 41.239827], [-8.635563, 41.239629], [-8.630613, 41.241096], [-8.625447, 41.241474], [-8.619714, 41.240142], [-8.613387, 41.239323], [-8.606727, 41.239998], [-8.600049, 41.23962], [-8.593884, 41.237766], [-8.587503, 41.237784], [-8.581401, 41.239008], [-8.575209, 41.239314], [-8.56998, 41.240178], [-8.56773, 41.240475], [-8.567631, 41.240349], [-8.565012, 41.239539], [-8.562465, 41.2407], [-8.56413, 41.242572], [-8.565471, 41.245434], [-8.567442, 41.248683], [-8.568369, 41.253192], [-8.566992, 41.258025], [-8.564274, 41.262921], [-8.561628, 41.267637], [-8.559702, 41.272614], [-8.561034, 41.277762], [-8.560215, 41.282802], [-8.556075, 41.286879], [-8.550081, 41.289822], [-8.543214, 41.293179], [-8.539002, 41.296914], [-8.537688, 41.301792], [-8.532981, 41.304537], [-8.527914, 41.307066], [-8.525106, 41.311485], [-8.519688, 41.31396], [-8.516025, 41.317875], [-8.517348, 41.323167], [-8.516835, 41.328621], [-8.51193, 41.332842], [-8.508303, 41.337333], [-8.506206, 41.342634], [-8.5059, 41.347593], [-8.506944, 41.352597], [-8.503974, 41.356638], [-8.500239, 41.360481], [-8.500734, 41.365368], [-8.503164, 41.370309], [-8.502471, 41.373216], [-8.502408, 41.374584], [-8.50266, 41.376591], [-8.502471, 41.379732], [-8.501319, 41.381775], [-8.496297, 41.382063], [-8.490411, 41.384061], [-8.484129, 41.38686], [-8.478846, 41.390739], [-8.473293, 41.394591], [-8.46774, 41.398407], [-8.462016, 41.401683], [-8.455518, 41.402016], [-8.448444, 41.401998], [-8.442882, 41.404365], [-8.436681, 41.405247], [-8.430507, 41.406372], [-8.424396, 41.407362], [-8.418258, 41.406822], [-8.411958, 41.408046], [-8.405352, 41.408082], [-8.397819, 41.40765], [-8.390529, 41.406336], [-8.383734, 41.405238], [-8.377614, 41.407452], [-8.372628, 41.410071], [-8.366895, 41.411097], [-8.36262, 41.414355], [-8.356743, 41.415921], [-8.350767, 41.418198], [-8.344359, 41.418225], [-8.340183, 41.421843], [-8.33913, 41.426433], [-8.337141, 41.428692], [-8.332281, 41.428386], [-8.330472, 41.424597], [-8.328735, 41.42061], [-8.324955, 41.416938], [-8.324262, 41.412015], [-8.319771, 41.408892], [-8.313606, 41.409594], [-8.307774, 41.411493], [-8.301654, 41.412735], [-8.295336, 41.411142], [-8.288019, 41.410107], [-8.281971, 41.407704], [-8.27604, 41.405814], [-8.269794, 41.404905], [-8.263728, 41.403123], [-8.256708, 41.403519], [-8.249724, 41.400765], [-8.242686, 41.397885], [-8.23572, 41.397966], [-8.230158, 41.402142], [-8.225262, 41.406534], [-8.218224, 41.407875], [-8.211078, 41.407119], [-8.20539, 41.409585], [-8.203842, 41.41476], [-8.199801, 41.419161], [-8.194464, 41.423193], [-8.187084, 41.424336], [-8.182062, 41.427657], [-8.17992, 41.432787], [-8.174016, 41.435118], [-8.16777, 41.436909], [-8.162541, 41.439798], [-8.157015, 41.44203], [-8.151075, 41.440842], [-8.147052, 41.437314], [-8.142327, 41.43456], [-8.136378, 41.434596], [-8.130924, 41.436639], [-8.125425, 41.43879], [-8.11953, 41.440275], [-8.113518, 41.441391], [-8.107533, 41.442489], [-8.101512, 41.443623], [-8.095419, 41.444622], [-8.089182, 41.444073], [-8.082684, 41.443812], [-8.076024, 41.44581], [-8.069508, 41.447907], [-8.062551, 41.447619], [-8.056206, 41.447115], [-8.049978, 41.449797], [-8.043426, 41.453325], [-8.03637, 41.455044], [-8.031564, 41.459157], [-8.026155, 41.462262], [-8.018793, 41.46345], [-8.010981, 41.464647], [-8.003367, 41.466474], [-7.996833, 41.469687], [-7.989957, 41.471046], [-7.982946, 41.471937], [-7.976034, 41.471307], [-7.969338, 41.472279], [-7.963407, 41.475429], [-7.955685, 41.475825], [-7.949736, 41.474007], [-7.947756, 41.472477], [-7.947054, 41.474808], [-7.949997, 41.477166], [-7.952715, 41.478552], [-7.955271, 41.478642], [-7.957935, 41.47848], [-7.961472, 41.476797], [-7.966215, 41.476266], [-7.970967, 41.477328], [-7.974333, 41.480604], [-7.97706, 41.483745], [-7.981857, 41.485383], [-7.985151, 41.487903], [-7.98498, 41.491395], [-7.986195, 41.494617], [-7.986204, 41.496102], [-7.988013, 41.498469], [-7.991469, 41.499693]]\n",
      "[[-8.585793, 41.175729], [-8.585523, 41.176557], [-8.58528, 41.17698], [-8.584461, 41.178204], [-8.583615, 41.180148], [-8.583345, 41.180868], [-8.583354, 41.180886], [-8.583354, 41.180886], [-8.583354, 41.180886], [-8.583354, 41.181156], [-8.585199, 41.180868], [-8.58771, 41.179752], [-8.589447, 41.17986], [-8.591697, 41.18049], [-8.593164, 41.183046], [-8.594298, 41.186214], [-8.594244, 41.18994], [-8.591769, 41.193144], [-8.588952, 41.196537], [-8.586135, 41.200281], [-8.583354, 41.204169], [-8.581545, 41.208705], [-8.578071, 41.21253], [-8.575506, 41.216328], [-8.574633, 41.220657], [-8.572428, 41.224581], [-8.570682, 41.22864], [-8.567451, 41.232078], [-8.564931, 41.235858], [-8.564067, 41.23998], [-8.564895, 41.24385], [-8.566785, 41.247333], [-8.568216, 41.251158], [-8.568117, 41.255208], [-8.566335, 41.25915], [-8.564103, 41.263065], [-8.561934, 41.266926], [-8.559909, 41.270841], [-8.560053, 41.27499], [-8.561097, 41.279157], [-8.559945, 41.283153], [-8.556804, 41.286294], [-8.552385, 41.288607], [-8.54766, 41.29092], [-8.542854, 41.293296], [-8.53929, 41.296356], [-8.538084, 41.30001], [-8.536257, 41.303286], [-8.532099, 41.304645], [-8.528373, 41.306535], [-8.526411, 41.309757], [-8.523684, 41.312439], [-8.519922, 41.313762], [-8.516781, 41.316093], [-8.515863, 41.319558], [-8.51733, 41.323167], [-8.517393, 41.327181], [-8.514873, 41.330799], [-8.510697, 41.333643], [-8.508267, 41.33727], [-8.506926, 41.340942], [-8.505522, 41.344713], [-8.506368, 41.34861], [-8.506971, 41.352408], [-8.504883, 41.355837], [-8.501499, 41.358438], [-8.499924, 41.361624], [-8.500635, 41.365179], [-8.50257, 41.368761], [-8.503227, 41.372379], [-8.501607, 41.375727], [-8.501076, 41.379489], [-8.499492, 41.383026], [-8.496621, 41.385798], [-8.494947, 41.389074], [-8.495244, 41.39244], [-8.496171, 41.395788], [-8.495685, 41.399325], [-8.493723, 41.402637], [-8.493273, 41.406255], [-8.495352, 41.409585], [-8.495217, 41.413122], [-8.493786, 41.416578], [-8.49357, 41.420241], [-8.49465, 41.423796], [-8.496711, 41.427225], [-8.497638, 41.430582], [-8.497179, 41.433903], [-8.495388, 41.436918], [-8.493777, 41.439951], [-8.492652, 41.443218], [-8.492679, 41.446521], [-8.490501, 41.44932], [-8.489277, 41.452443], [-8.486937, 41.454918], [-8.48331, 41.456565], [-8.480079, 41.458617], [-8.477208, 41.461173], [-8.473833, 41.463189], [-8.470701, 41.465358], [-8.469513, 41.468652], [-8.466624, 41.471253], [-8.463519, 41.473908], [-8.460018, 41.476248], [-8.458884, 41.479569], [-8.461368, 41.482368], [-8.464968, 41.484321], [-8.466462, 41.48748], [-8.464977, 41.490711], [-8.465202, 41.49405], [-8.468406, 41.496588], [-8.471052, 41.499567], [-8.472159, 41.50296], [-8.471889, 41.505633], [-8.469801, 41.506371], [-8.467263, 41.507298], [-8.464473, 41.50791], [-8.461773, 41.507748], [-8.457957, 41.507622], [-8.453988, 41.507532], [-8.450298, 41.507982], [-8.446743, 41.507352], [-8.44479, 41.509116], [-8.444313, 41.51187], [-8.444754, 41.514714], [-8.444601, 41.517792], [-8.445771, 41.520969], [-8.44614, 41.524074], [-8.444349, 41.526684], [-8.443098, 41.529546], [-8.443836, 41.532228], [-8.446077, 41.534865], [-8.444502, 41.537664], [-8.442081, 41.539995], [-8.4402, 41.542605], [-8.438004, 41.545188], [-8.435628, 41.547681], [-8.432541, 41.550831], [-8.431542, 41.552019], [-8.430489, 41.552514], [-8.429634, 41.552316], [-8.429346, 41.551893], [-8.428806, 41.551623], [-8.428365, 41.551821], [-8.427852, 41.552001], [-8.427663, 41.552289], [-8.427717, 41.552424], [-8.427834, 41.552694], [-8.427483, 41.552838], [-8.42661, 41.552901], [-8.4258, 41.552946], [-8.425791, 41.553396], [-8.425584, 41.553846], [-8.425224, 41.554053], [-8.424657, 41.554404], [-8.424522, 41.554467], [-8.424531, 41.554458], [-8.424495, 41.554494], [-8.424261, 41.554647], [-8.424729, 41.555106], [-8.425287, 41.554962], [-8.425296, 41.554962], [-8.425287, 41.554962], [-8.425287, 41.554962], [-8.425692, 41.554971], [-8.425107, 41.554872], [-8.424396, 41.554755], [-8.424414, 41.554746], [-8.424423, 41.554737], [-8.424414, 41.554737], [-8.424405, 41.554746], [-8.424288, 41.554692], [-8.423127, 41.555331], [-8.421804, 41.556087], [-8.420409, 41.556429], [-8.419005, 41.55696], [-8.417682, 41.557518], [-8.416809, 41.55768], [-8.41653, 41.557698], [-8.41653, 41.557707], [-8.416539, 41.557716], [-8.416548, 41.557725], [-8.416548, 41.557725], [-8.416539, 41.557707], [-8.416548, 41.557698]]\n",
      "[[-8.626167, 41.152572], [-8.627031, 41.152482], [-8.629101, 41.152545], [-8.630937, 41.152635], [-8.632791, 41.152689], [-8.634546, 41.152482], [-8.636076, 41.152491], [-8.636814, 41.152671], [-8.63784, 41.152914], [-8.63856, 41.153589], [-8.638209, 41.154291], [-8.637903, 41.154903], [-8.637183, 41.156343], [-8.636418, 41.157846], [-8.635905, 41.158872], [-8.635887, 41.158854], [-8.635896, 41.158854], [-8.635932, 41.158854], [-8.63604, 41.159124], [-8.637975, 41.15943], [-8.63811, 41.15952], [-8.638218, 41.159574], [-8.64018, 41.159835], [-8.640549, 41.159889], [-8.642061, 41.16015], [-8.643546, 41.160411], [-8.643582, 41.160411], [-8.643834, 41.160663], [-8.643708, 41.161941], [-8.643069, 41.163948], [-8.642754, 41.164956], [-8.64414, 41.165442], [-8.646777, 41.165838], [-8.647155, 41.165928], [-8.647308, 41.165955], [-8.647434, 41.165775], [-8.648145, 41.164992], [-8.64855, 41.165298], [-8.649531, 41.165469], [-8.64855, 41.165109], [-8.648307, 41.164704], [-8.648847, 41.164749], [-8.64954, 41.164965], [-8.650035, 41.165019], [-8.650044, 41.165019], [-8.650044, 41.165046], [-8.650044, 41.165064], [-8.64999, 41.165064], [-8.650017, 41.165073], [-8.650017, 41.165082], [-8.650026, 41.165091], [-8.650035, 41.165082], [-8.650008, 41.165046], [-8.649963, 41.165046], [-8.649963, 41.165055], [-8.649945, 41.165046], [-8.649945, 41.165037], [-8.649945, 41.165019], [-8.649963, 41.165028], [-8.649963, 41.165019], [-8.649945, 41.165019], [-8.649945, 41.165028], [-8.649927, 41.165028], [-8.649909, 41.165019], [-8.649918, 41.16501], [-8.649909, 41.164992], [-8.649927, 41.164992], [-8.649936, 41.164992], [-8.649936, 41.16501], [-8.649936, 41.165001], [-8.649927, 41.164983], [-8.649918, 41.164983], [-8.649945, 41.164974], [-8.649981, 41.164965], [-8.64999, 41.164956], [-8.649981, 41.164965], [-8.649963, 41.164983], [-8.649954, 41.164992], [-8.649954, 41.165001], [-8.649963, 41.164992], [-8.649963, 41.164983], [-8.649954, 41.164983], [-8.649963, 41.164974], [-8.649963, 41.164965], [-8.649963, 41.164956], [-8.649936, 41.164965], [-8.649927, 41.164956], [-8.649927, 41.164965], [-8.649909, 41.164983], [-8.650107, 41.165037], [-8.649909, 41.166009], [-8.649837, 41.166108], [-8.64909, 41.166216], [-8.647803, 41.166018], [-8.64765, 41.165973], [-8.647389, 41.165568], [-8.647776, 41.165217], [-8.647902, 41.165208], [-8.647965, 41.165253], [-8.648073, 41.165019], [-8.648235, 41.164902], [-8.648361, 41.164749], [-8.648334, 41.164767], [-8.648334, 41.164767], [-8.648352, 41.164758], [-8.648325, 41.164731], [-8.648307, 41.164713], [-8.648289, 41.164704], [-8.648298, 41.164713], [-8.648334, 41.164722], [-8.64855, 41.164596], [-8.65008, 41.165028], [-8.649945, 41.165811], [-8.649882, 41.166063], [-8.649882, 41.16609], [-8.649882, 41.16609], [-8.649792, 41.166387], [-8.64936, 41.16735], [-8.648145, 41.166801], [-8.64729, 41.166639], [-8.646894, 41.16735], [-8.646102, 41.167719], [-8.646273, 41.16771], [-8.646831, 41.167485], [-8.647263, 41.167098], [-8.64738, 41.166567], [-8.647434, 41.166279], [-8.647425, 41.166216], [-8.647434, 41.165793], [-8.647416, 41.165505], [-8.647803, 41.16519], [-8.647983, 41.1651], [-8.64801, 41.165091], [-8.64801, 41.165073], [-8.648001, 41.165037], [-8.647983, 41.16501], [-8.647956, 41.164983], [-8.647956, 41.164965], [-8.647947, 41.164938], [-8.647938, 41.164947], [-8.647965, 41.164974], [-8.648001, 41.165001], [-8.648019, 41.165019], [-8.648136, 41.164965], [-8.648388, 41.164722], [-8.649252, 41.164875], [-8.650251, 41.164992], [-8.650629, 41.163795], [-8.651079, 41.162157], [-8.650917, 41.1615], [-8.650701, 41.161482], [-8.649612, 41.161275], [-8.648757, 41.16114], [-8.648784, 41.16114], [-8.648352, 41.161068], [-8.647929, 41.160996], [-8.647011, 41.160852], [-8.646111, 41.160708], [-8.645013, 41.160519], [-8.64486, 41.160501], [-8.64486, 41.160537], [-8.6445, 41.160447], [-8.642997, 41.160222], [-8.64108, 41.159889], [-8.640927, 41.159871], [-8.640945, 41.15988], [-8.640486, 41.15979], [-8.638803, 41.159511], [-8.637012, 41.159169], [-8.636292, 41.159133], [-8.636256, 41.159322], [-8.635266, 41.159025], [-8.633205, 41.15862], [-8.631639, 41.158368], [-8.631315, 41.15835], [-8.63127, 41.15835], [-8.63127, 41.158386], [-8.631261, 41.158404], [-8.631252, 41.158413], [-8.630199, 41.158053], [-8.629452, 41.157099], [-8.628831, 41.157036], [-8.627985, 41.157531], [-8.626275, 41.157405], [-8.625267, 41.157216]]\n",
      "[[-8.597268, 41.18742], [-8.597439, 41.187663], [-8.597529, 41.187744], [-8.597574, 41.187753], [-8.597583, 41.187753], [-8.597592, 41.187726], [-8.597592, 41.187708], [-8.597592, 41.187735], [-8.597574, 41.187762], [-8.597574, 41.18778], [-8.597583, 41.187762], [-8.597754, 41.187717], [-8.597925, 41.18769], [-8.597313, 41.187582], [-8.596908, 41.187087], [-8.596836, 41.186889], [-8.596854, 41.186232], [-8.59689, 41.18535], [-8.597619, 41.184981], [-8.598609, 41.18454], [-8.598726, 41.18427], [-8.598951, 41.183802], [-8.599176, 41.183271], [-8.599311, 41.183019], [-8.599509, 41.18301], [-8.600238, 41.18319], [-8.601084, 41.183406], [-8.602173, 41.183658], [-8.603001, 41.183811], [-8.603523, 41.183919], [-8.604972, 41.184234], [-8.607177, 41.184711], [-8.60904, 41.18463], [-8.608986, 41.184612], [-8.609103, 41.184594], [-8.609517, 41.184018], [-8.609472, 41.183541], [-8.609427, 41.182389], [-8.609382, 41.181318], [-8.609319, 41.179779], [-8.609265, 41.178645], [-8.609229, 41.177898], [-8.609238, 41.177412], [-8.61057, 41.177007], [-8.61192, 41.17671], [-8.612613, 41.177052], [-8.613234, 41.177286], [-8.613324, 41.177322], [-8.613342, 41.17734], [-8.61381, 41.17752], [-8.6139, 41.177556], [-8.613927, 41.177538], [-8.613936, 41.177529], [-8.613954, 41.177511], [-8.613954, 41.177529], [-8.614026, 41.177565], [-8.614125, 41.177475], [-8.614188, 41.177358], [-8.614278, 41.177169], [-8.614314, 41.176899], [-8.614305, 41.176665], [-8.613972, 41.175954], [-8.613675, 41.175117], [-8.613594, 41.174361], [-8.613306, 41.174037], [-8.613126, 41.173497], [-8.613108, 41.173371], [-8.613072, 41.173317], [-8.613009, 41.173119], [-8.612757, 41.172291], [-8.612721, 41.172084], [-8.612712, 41.172057], [-8.612775, 41.171517], [-8.612964, 41.170149], [-8.61246, 41.168655], [-8.611866, 41.167296], [-8.611596, 41.166585], [-8.611551, 41.166459], [-8.611245, 41.165568], [-8.611065, 41.165064], [-8.610984, 41.165028], [-8.610957, 41.164929], [-8.61093, 41.16492], [-8.610948, 41.164704], [-8.610984, 41.164461], [-8.610966, 41.164452], [-8.610939, 41.164371], [-8.611011, 41.163822], [-8.611002, 41.163588], [-8.610957, 41.163588], [-8.610975, 41.163597], [-8.611056, 41.163399], [-8.611083, 41.16294], [-8.611146, 41.162517], [-8.611272, 41.161842], [-8.611263, 41.161833], [-8.611335, 41.161518], [-8.611578, 41.160537], [-8.611839, 41.159637], [-8.612118, 41.158602], [-8.612631, 41.157387], [-8.613216, 41.156001], [-8.613324, 41.15547], [-8.613315, 41.155461], [-8.613297, 41.155452], [-8.61336, 41.155371], [-8.613711, 41.155362], [-8.613972, 41.155389], [-8.614278, 41.155479], [-8.614476, 41.15547], [-8.614692, 41.155542], [-8.614962, 41.155569], [-8.614971, 41.15556], [-8.615439, 41.155686], [-8.616717, 41.155875], [-8.617509, 41.156001], [-8.617563, 41.155992], [-8.618463, 41.155686], [-8.618742, 41.155389], [-8.618733, 41.155398], [-8.618724, 41.155398], [-8.618913, 41.154714], [-8.618328, 41.153049], [-8.617698, 41.151654], [-8.618814, 41.151258], [-8.620677, 41.15079], [-8.620929, 41.150763], [-8.620956, 41.150835], [-8.620965, 41.150853], [-8.62119, 41.150799], [-8.622603, 41.150403], [-8.623053, 41.150232], [-8.622981, 41.149485], [-8.621766, 41.149521], [-8.621505, 41.149548], [-8.62137, 41.149566], [-8.620353, 41.149746], [-8.619876, 41.149809], [-8.619498, 41.149881], [-8.61831, 41.150025], [-8.617698, 41.149728], [-8.617671, 41.149098], [-8.617959, 41.148441], [-8.618067, 41.14836], [-8.618157, 41.148414], [-8.618166, 41.148396], [-8.618157, 41.148405], [-8.618346, 41.148531], [-8.618697, 41.148567], [-8.618958, 41.148639], [-8.618967, 41.148648], [-8.619624, 41.148387], [-8.620443, 41.148684], [-8.620713, 41.149143], [-8.620875, 41.150052], [-8.621055, 41.150628], [-8.621109, 41.150592], [-8.621163, 41.151123], [-8.621172, 41.151888], [-8.620758, 41.152545], [-8.620902, 41.15304], [-8.621064, 41.153463], [-8.621055, 41.153949], [-8.62092, 41.154894], [-8.620911, 41.155371], [-8.620929, 41.155344], [-8.62092, 41.155344], [-8.620731, 41.156109], [-8.62101, 41.156577], [-8.621325, 41.156433], [-8.621397, 41.156064], [-8.62137, 41.155983], [-8.621379, 41.155983], [-8.621379, 41.155974], [-8.621298, 41.155893], [-8.621298, 41.155893], [-8.621289, 41.155902], [-8.621289, 41.155902], [-8.621298, 41.155911], [-8.621307, 41.155911], [-8.621316, 41.155938], [-8.621334, 41.155929], [-8.621334, 41.155911], [-8.621334, 41.15592], [-8.621334, 41.155929]]\n",
      "[[-8.678997, 41.157027], [-8.678232, 41.157234], [-8.67708, 41.155821], [-8.675847, 41.15466], [-8.674875, 41.154696], [-8.674479, 41.154201], [-8.673633, 41.154597], [-8.672166, 41.154921], [-8.670609, 41.155875], [-8.668053, 41.156883], [-8.665533, 41.157873], [-8.663121, 41.158827], [-8.660691, 41.159781], [-8.658306, 41.160726], [-8.656218, 41.161806], [-8.655777, 41.162049], [-8.655795, 41.162049], [-8.654706, 41.162148], [-8.651934, 41.161671], [-8.648514, 41.161095], [-8.646516, 41.160744], [-8.645022, 41.160492], [-8.643798, 41.160303], [-8.642439, 41.160087], [-8.641548, 41.15997], [-8.64153, 41.159961], [-8.641458, 41.160465], [-8.640666, 41.161104], [-8.640504, 41.161221], [-8.640774, 41.161221], [-8.641098, 41.161158], [-8.641305, 41.161185], [-8.641386, 41.161356], [-8.641386, 41.161428], [-8.641377, 41.161419], [-8.64135, 41.161464], [-8.641359, 41.1615], [-8.641422, 41.161482], [-8.641503, 41.161428], [-8.64153, 41.161419], [-8.641566, 41.161446], [-8.641575, 41.161446], [-8.641476, 41.161437], [-8.64144, 41.161446], [-8.641296, 41.161536], [-8.641278, 41.16159], [-8.641377, 41.161554], [-8.641413, 41.161545], [-8.641404, 41.161554], [-8.641395, 41.161554], [-8.641305, 41.161545], [-8.641323, 41.161563], [-8.641341, 41.161572], [-8.641359, 41.161581], [-8.641368, 41.16159], [-8.64135, 41.16159], [-8.641359, 41.16159], [-8.641395, 41.16159], [-8.641413, 41.161599], [-8.641431, 41.161599], [-8.641422, 41.161599], [-8.641332, 41.16159], [-8.641215, 41.161581], [-8.641215, 41.16159], [-8.641287, 41.161599], [-8.641287, 41.161626], [-8.641269, 41.161644], [-8.641332, 41.161644], [-8.641368, 41.161617], [-8.641359, 41.161581], [-8.641269, 41.161572], [-8.641242, 41.161572], [-8.641242, 41.161581], [-8.641242, 41.161581], [-8.641206, 41.161563], [-8.641071, 41.161536], [-8.64099, 41.161536], [-8.641035, 41.161572], [-8.641134, 41.161599], [-8.641188, 41.161644], [-8.641116, 41.161653], [-8.64108, 41.161617], [-8.641035, 41.161608], [-8.641008, 41.161617], [-8.641053, 41.161545], [-8.641053, 41.161473], [-8.641062, 41.161446], [-8.641035, 41.161446], [-8.641197, 41.161446], [-8.641548, 41.161455], [-8.641566, 41.161446], [-8.641467, 41.161446], [-8.641278, 41.161437], [-8.641224, 41.161419], [-8.64117, 41.161401], [-8.641098, 41.161401], [-8.640936, 41.161437], [-8.640909, 41.161455], [-8.641035, 41.161455], [-8.641071, 41.161437], [-8.641188, 41.161455], [-8.641305, 41.161455], [-8.641368, 41.161437], [-8.641458, 41.161428], [-8.641395, 41.16141], [-8.641332, 41.161401], [-8.641314, 41.161401], [-8.641188, 41.161392], [-8.641035, 41.161365], [-8.640963, 41.161338], [-8.641062, 41.161347], [-8.641116, 41.161365], [-8.641044, 41.161356], [-8.641053, 41.161356], [-8.641044, 41.161338], [-8.641017, 41.161329], [-8.640945, 41.161311], [-8.640963, 41.161311], [-8.641017, 41.16132], [-8.64108, 41.16132], [-8.641161, 41.161338], [-8.641341, 41.161374], [-8.641404, 41.161383], [-8.641467, 41.161383], [-8.64153, 41.161374], [-8.641413, 41.161392], [-8.641359, 41.161428], [-8.641242, 41.161473], [-8.640783, 41.161608], [-8.64009, 41.162004], [-8.639613, 41.162337], [-8.639577, 41.16231], [-8.639181, 41.162652], [-8.638911, 41.162814], [-8.637876, 41.163426], [-8.637255, 41.163813], [-8.636814, 41.164038], [-8.637336, 41.164596], [-8.638866, 41.164911], [-8.639613, 41.165442], [-8.640594, 41.166099], [-8.640432, 41.167575], [-8.639226, 41.16915], [-8.636715, 41.170743], [-8.633187, 41.171661], [-8.629686, 41.172363], [-8.626356, 41.172867], [-8.623539, 41.172381], [-8.622063, 41.173389], [-8.622414, 41.176593], [-8.622261, 41.180184], [-8.622981, 41.183847], [-8.625339, 41.187348], [-8.627148, 41.190057], [-8.628336, 41.192883], [-8.628066, 41.196222], [-8.627283, 41.199588], [-8.627391, 41.203062], [-8.627283, 41.20668], [-8.627202, 41.209092], [-8.627157, 41.210199], [-8.627103, 41.211648], [-8.627031, 41.213403], [-8.626995, 41.214798], [-8.626932, 41.216652], [-8.626878, 41.218749], [-8.626653, 41.220855], [-8.626743, 41.222988], [-8.628723, 41.22468], [-8.631756, 41.224932], [-8.633781, 41.225868], [-8.634645, 41.226642], [-8.635302, 41.227569], [-8.635176, 41.229504], [-8.636112, 41.231187], [-8.637282, 41.232312], [-8.63856, 41.233545], [-8.639001, 41.233977], [-8.638992, 41.234805], [-8.638875, 41.235444], [-8.638164, 41.235633], [-8.638173, 41.235624], [-8.638173, 41.235615], [-8.638164, 41.235615]]\n",
      "[[-8.688798, 41.174127], [-8.689086, 41.176017], [-8.689086, 41.176341], [-8.689131, 41.176584], [-8.689374, 41.178195], [-8.689419, 41.178204], [-8.6895, 41.179464], [-8.68959, 41.179932], [-8.690409, 41.180202], [-8.690634, 41.181642], [-8.691588, 41.182785], [-8.692758, 41.18391], [-8.693883, 41.185053], [-8.694621, 41.186133], [-8.694693, 41.186934], [-8.693442, 41.187681], [-8.692632, 41.18778], [-8.69175, 41.187213], [-8.692731, 41.187591], [-8.694189, 41.188653], [-8.695656, 41.190003], [-8.696097, 41.190867], [-8.695908, 41.19165], [-8.696106, 41.191893], [-8.696376, 41.192307], [-8.696691, 41.193441], [-8.696727, 41.195079], [-8.69733, 41.195646], [-8.698041, 41.196114], [-8.698275, 41.195961], [-8.698275, 41.195943], [-8.698275, 41.195934], [-8.698275, 41.195925], [-8.698275, 41.195943], [-8.698266, 41.195943], [-8.698266, 41.195943], [-8.698275, 41.195943], [-8.698275, 41.195934], [-8.698275, 41.195934], [-8.698275, 41.195934], [-8.698275, 41.195925], [-8.698275, 41.195925], [-8.698275, 41.195925], [-8.698266, 41.195934], [-8.698266, 41.195943], [-8.698266, 41.195943], [-8.698266, 41.195943], [-8.698266, 41.195943], [-8.698275, 41.195943], [-8.698275, 41.195934], [-8.698284, 41.195925], [-8.698284, 41.195925], [-8.698284, 41.195934], [-8.698284, 41.195934], [-8.698284, 41.195934], [-8.698284, 41.195925], [-8.698284, 41.195934], [-8.698293, 41.195934], [-8.698293, 41.195934], [-8.698293, 41.195934], [-8.698284, 41.195934], [-8.698284, 41.195925], [-8.698374, 41.195844], [-8.698455, 41.19543], [-8.697726, 41.194899], [-8.696781, 41.194647], [-8.69688, 41.193153], [-8.696556, 41.192406], [-8.696286, 41.191974], [-8.696214, 41.191155], [-8.695566, 41.190885], [-8.694828, 41.190156], [-8.692362, 41.191443], [-8.689725, 41.193009], [-8.688339, 41.193981], [-8.686242, 41.195169], [-8.685477, 41.196483], [-8.684388, 41.196573], [-8.681805, 41.194251], [-8.678493, 41.191056], [-8.674614, 41.189391], [-8.671617, 41.189049], [-8.669673, 41.188635], [-8.668737, 41.188293], [-8.667864, 41.187816], [-8.667216, 41.187402], [-8.666721, 41.187015], [-8.666208, 41.186583], [-8.665974, 41.186394], [-8.665353, 41.185908], [-8.664579, 41.185269], [-8.663166, 41.184117], [-8.661609, 41.182857], [-8.660043, 41.18157], [-8.65827, 41.180121], [-8.657199, 41.17923], [-8.657172, 41.179194], [-8.657127, 41.179167], [-8.656974, 41.179005], [-8.656974, 41.178987], [-8.656605, 41.178618], [-8.656578, 41.178609], [-8.65656, 41.178582], [-8.656515, 41.178582], [-8.656479, 41.178564], [-8.656299, 41.178366], [-8.656218, 41.178294], [-8.656182, 41.178258], [-8.656011, 41.17806], [-8.654544, 41.178258], [-8.651718, 41.179419], [-8.649549, 41.180625], [-8.649297, 41.180769], [-8.648001, 41.181192], [-8.648307, 41.180706], [-8.647074, 41.180769], [-8.645814, 41.180634], [-8.645958, 41.17977], [-8.646507, 41.178645], [-8.645751, 41.176782], [-8.644635, 41.17644], [-8.644608, 41.176458], [-8.644617, 41.176476], [-8.644599, 41.176485], [-8.6445, 41.176539], [-8.643213, 41.177457], [-8.641566, 41.177529], [-8.640504, 41.177403], [-8.639847, 41.178393], [-8.638821, 41.178879], [-8.637336, 41.179221], [-8.636661, 41.180544], [-8.636022, 41.181012], [-8.633421, 41.179599], [-8.63136, 41.179239], [-8.630694, 41.179311], [-8.628237, 41.179599], [-8.625339, 41.179905], [-8.624187, 41.180031], [-8.624205, 41.180022], [-8.624214, 41.180031], [-8.622738, 41.180319], [-8.619813, 41.181372], [-8.616348, 41.182911], [-8.61462, 41.183091], [-8.614647, 41.183082], [-8.614647, 41.183073], [-8.614674, 41.183055], [-8.614485, 41.183082], [-8.612307, 41.183415], [-8.609769, 41.184396], [-8.606277, 41.184432], [-8.60445, 41.184045], [-8.603784, 41.183874], [-8.601543, 41.183388], [-8.599284, 41.182758], [-8.597547, 41.182272], [-8.596161, 41.181903], [-8.593254, 41.180913], [-8.590374, 41.17986], [-8.589969, 41.179788], [-8.589987, 41.179788], [-8.589978, 41.179788], [-8.589528, 41.180265], [-8.590626, 41.180922], [-8.590635, 41.182749], [-8.590077, 41.183424], [-8.589672, 41.184153], [-8.588574, 41.185773], [-8.587917, 41.187663], [-8.587575, 41.188833], [-8.587134, 41.189634], [-8.586081, 41.190669], [-8.584983, 41.190678], [-8.585001, 41.190696], [-8.585001, 41.190696], [-8.585001, 41.190696], [-8.585019, 41.190687], [-8.585028, 41.190687], [-8.585019, 41.190678], [-8.585019, 41.190687], [-8.58501, 41.190696], [-8.585343, 41.190642], [-8.58618, 41.19066]]\n",
      "[[-8.656479, 41.179059], [-8.657973, 41.180166], [-8.659611, 41.181471], [-8.661249, 41.182794], [-8.662986, 41.184198], [-8.664804, 41.185683], [-8.666829, 41.187321], [-8.669529, 41.188734], [-8.672751, 41.189328], [-8.676081, 41.189868], [-8.678835, 41.191479], [-8.680887, 41.193504], [-8.682867, 41.195439], [-8.68482, 41.197347], [-8.686692, 41.199192], [-8.688402, 41.200902], [-8.68752, 41.20245], [-8.687196, 41.203899], [-8.687214, 41.204322], [-8.687673, 41.204853], [-8.689446, 41.204592], [-8.691579, 41.204538], [-8.69292, 41.20353], [-8.693289, 41.202387], [-8.693451, 41.202099], [-8.694684, 41.201712], [-8.695971, 41.20155], [-8.69643, 41.20164], [-8.696448, 41.200884], [-8.696484, 41.200065], [-8.696502, 41.199714], [-8.697294, 41.199309], [-8.698077, 41.199219], [-8.698095, 41.199228], [-8.698095, 41.199237], [-8.698086, 41.199237], [-8.698086, 41.199237], [-8.698077, 41.199246], [-8.698086, 41.199246], [-8.698077, 41.199246], [-8.698077, 41.199237], [-8.698077, 41.199237], [-8.698068, 41.199246], [-8.698068, 41.199237], [-8.698068, 41.199246], [-8.698059, 41.199255], [-8.698059, 41.199255], [-8.698059, 41.199255], [-8.698077, 41.199246], [-8.698086, 41.19921], [-8.698086, 41.199174], [-8.698095, 41.199165], [-8.698095, 41.199147], [-8.698095, 41.19912], [-8.698104, 41.199111], [-8.698104, 41.199129], [-8.698095, 41.199165], [-8.698257, 41.199579], [-8.69769, 41.199714], [-8.697663, 41.199651], [-8.697501, 41.199309], [-8.696655, 41.199336], [-8.69643, 41.199804], [-8.696358, 41.201145], [-8.695008, 41.201613], [-8.69346, 41.201721], [-8.691831, 41.202153], [-8.68968, 41.201991], [-8.688024, 41.200272], [-8.686809, 41.199075], [-8.686611, 41.198895], [-8.686404, 41.198715], [-8.686296, 41.198607], [-8.686044, 41.198373], [-8.68572, 41.198049], [-8.685261, 41.197599], [-8.685117, 41.197464], [-8.684829, 41.197185], [-8.684487, 41.196861], [-8.684505, 41.19687], [-8.68446, 41.196825], [-8.684298, 41.196654], [-8.684019, 41.196375], [-8.683839, 41.196204], [-8.68374, 41.196114], [-8.68347, 41.195844], [-8.683047, 41.19543], [-8.682831, 41.195214], [-8.682651, 41.195043], [-8.682543, 41.194944], [-8.682237, 41.194638], [-8.681679, 41.194089], [-8.681679, 41.194098], [-8.681679, 41.194089], [-8.681436, 41.193846], [-8.68104, 41.193468], [-8.680842, 41.19327], [-8.680725, 41.193153], [-8.68041, 41.192856], [-8.680131, 41.192577], [-8.680005, 41.192469], [-8.679816, 41.19228], [-8.67942, 41.191902], [-8.679204, 41.191695], [-8.678826, 41.191326], [-8.678331, 41.190903], [-8.677989, 41.190642], [-8.677296, 41.190246], [-8.676612, 41.18994], [-8.675928, 41.189697], [-8.67492, 41.189445], [-8.67429, 41.189355], [-8.673822, 41.189301], [-8.673552, 41.189274], [-8.673507, 41.189265], [-8.672877, 41.189202], [-8.672328, 41.189139], [-8.672229, 41.18913], [-8.671032, 41.188959], [-8.669916, 41.188707], [-8.669394, 41.188527], [-8.668593, 41.188203], [-8.668161, 41.187987], [-8.667891, 41.187843], [-8.667522, 41.187609], [-8.667513, 41.187609], [-8.667297, 41.187456], [-8.666793, 41.187096], [-8.666289, 41.186682], [-8.665965, 41.186421], [-8.665317, 41.185899], [-8.665101, 41.185719], [-8.664471, 41.185206], [-8.663247, 41.184216], [-8.661951, 41.183172], [-8.659953, 41.181534], [-8.657505, 41.179554], [-8.654139, 41.176854], [-8.651493, 41.174694], [-8.648532, 41.172282], [-8.645706, 41.170005], [-8.643141, 41.167926], [-8.641449, 41.166549], [-8.640999, 41.16618], [-8.640414, 41.165721], [-8.639946, 41.16537], [-8.639721, 41.165307], [-8.639181, 41.164803], [-8.63829, 41.164614], [-8.638272, 41.164614], [-8.638236, 41.164614], [-8.637282, 41.164524], [-8.635536, 41.164011], [-8.634132, 41.163543], [-8.633601, 41.163327], [-8.633259, 41.162994], [-8.632656, 41.162256], [-8.631477, 41.162535], [-8.629443, 41.163444], [-8.628246, 41.163543], [-8.628192, 41.163534], [-8.627598, 41.163507], [-8.625969, 41.163417], [-8.625438, 41.163372], [-8.625447, 41.163381], [-8.625339, 41.163408], [-8.625339, 41.163408], [-8.624835, 41.163336], [-8.622747, 41.162976], [-8.620767, 41.162706], [-8.619129, 41.162616], [-8.617284, 41.162445], [-8.616717, 41.162364], [-8.614881, 41.162121], [-8.613423, 41.161887], [-8.612901, 41.161851], [-8.612298, 41.161788], [-8.611542, 41.161698], [-8.611533, 41.161689], [-8.610066, 41.161464], [-8.609643, 41.161239], [-8.609841, 41.160672], [-8.609841, 41.160672], [-8.609814, 41.160384], [-8.609706, 41.160276]]\n",
      "[[-8.608806, 41.143221], [-8.610345, 41.143365], [-8.609931, 41.144013], [-8.608617, 41.144598], [-8.608248, 41.144733], [-8.608212, 41.14467], [-8.608266, 41.144715], [-8.608203, 41.144697], [-8.607564, 41.144823], [-8.607501, 41.144427], [-8.607474, 41.144436], [-8.607501, 41.144418], [-8.607438, 41.144346], [-8.608221, 41.143077], [-8.608284, 41.142807], [-8.608302, 41.142762], [-8.608347, 41.142627], [-8.608392, 41.142474], [-8.608401, 41.142465], [-8.608428, 41.142411], [-8.608491, 41.142249], [-8.6085, 41.142276], [-8.608518, 41.14233], [-8.608581, 41.142393], [-8.608608, 41.142429], [-8.60859, 41.142393], [-8.608545, 41.142303], [-8.608356, 41.142654], [-8.607573, 41.142618], [-8.605377, 41.143014], [-8.605026, 41.143869], [-8.604747, 41.14422], [-8.603964, 41.145282], [-8.60346, 41.145462], [-8.603487, 41.145516], [-8.60355, 41.145516], [-8.603577, 41.145543], [-8.60355, 41.145543], [-8.602542, 41.14566], [-8.602299, 41.145651], [-8.602281, 41.145669], [-8.602065, 41.145696], [-8.601921, 41.146299], [-8.602029, 41.147604], [-8.602101, 41.148504], [-8.602083, 41.148693], [-8.602155, 41.149665], [-8.602272, 41.150313], [-8.602308, 41.150349], [-8.602308, 41.150394], [-8.602218, 41.150385], [-8.602182, 41.150376], [-8.602155, 41.150349], [-8.602182, 41.150367], [-8.602146, 41.150358], [-8.6022, 41.150628], [-8.601741, 41.150934], [-8.600427, 41.151042], [-8.600274, 41.150583], [-8.601255, 41.150124], [-8.601885, 41.149395], [-8.601966, 41.149161], [-8.601948, 41.149035], [-8.602587, 41.149053], [-8.603847, 41.149368], [-8.603928, 41.149449], [-8.603955, 41.149458], [-8.603955, 41.148801], [-8.603883, 41.147541], [-8.603901, 41.146848], [-8.60391, 41.146821], [-8.603838, 41.146596], [-8.603892, 41.146542], [-8.604819, 41.145867], [-8.606232, 41.144922], [-8.60661, 41.144868], [-8.606619, 41.144868], [-8.606628, 41.144877], [-8.606619, 41.144895], [-8.606637, 41.144922], [-8.606808, 41.144859], [-8.607051, 41.144886], [-8.607339, 41.145291], [-8.607915, 41.144994], [-8.608176, 41.144895], [-8.608131, 41.144859], [-8.608086, 41.144841], [-8.608059, 41.144832], [-8.60805, 41.144814], [-8.607987, 41.144778], [-8.607978, 41.144796], [-8.60796, 41.144778], [-8.607942, 41.144751], [-8.608023, 41.144814], [-8.608014, 41.144814], [-8.608014, 41.144814], [-8.608014, 41.144814], [-8.608032, 41.144823], [-8.608041, 41.144832], [-8.608032, 41.144823], [-8.60805, 41.144841], [-8.608023, 41.144841], [-8.608041, 41.144859], [-8.608068, 41.144859], [-8.608059, 41.144841], [-8.607978, 41.144778], [-8.607987, 41.144778], [-8.608005, 41.144796], [-8.608014, 41.144796], [-8.60805, 41.144832], [-8.607987, 41.144778], [-8.607897, 41.144805], [-8.607645, 41.144373], [-8.607591, 41.144283], [-8.607609, 41.144274], [-8.607618, 41.144283], [-8.607708, 41.143959], [-8.60796, 41.14368], [-8.608113, 41.143392], [-8.609193, 41.143302], [-8.610012, 41.143257], [-8.610003, 41.143257], [-8.610003, 41.143266], [-8.610057, 41.143284], [-8.610822, 41.143131], [-8.611857, 41.142717], [-8.612289, 41.142519], [-8.612469, 41.142465], [-8.612469, 41.142483], [-8.612469, 41.142492], [-8.612469, 41.142474], [-8.61246, 41.142483], [-8.61246, 41.142492], [-8.61246, 41.14251], [-8.612442, 41.142519], [-8.612424, 41.142519], [-8.612451, 41.142492], [-8.612478, 41.142465], [-8.612487, 41.142456], [-8.612487, 41.142456], [-8.612487, 41.142465], [-8.612487, 41.142465], [-8.612487, 41.142483], [-8.612478, 41.142474], [-8.612487, 41.142474], [-8.612523, 41.142447], [-8.61255, 41.14242], [-8.612541, 41.142438], [-8.612505, 41.142456], [-8.612487, 41.142483], [-8.612478, 41.142492], [-8.612469, 41.142501], [-8.612469, 41.142492], [-8.612478, 41.142492], [-8.612451, 41.142501], [-8.612433, 41.142528], [-8.612442, 41.142537], [-8.612451, 41.142528], [-8.61246, 41.142519], [-8.61246, 41.142528], [-8.612451, 41.142519], [-8.612442, 41.142519], [-8.612442, 41.142537], [-8.612442, 41.142537], [-8.612433, 41.142528], [-8.612415, 41.142438], [-8.612397, 41.14242], [-8.612424, 41.142456], [-8.612433, 41.142456], [-8.61237, 41.142375], [-8.612406, 41.142411], [-8.612424, 41.142447], [-8.612325, 41.142492], [-8.612244, 41.142546], [-8.611758, 41.142816], [-8.61084, 41.143176], [-8.609418, 41.143266], [-8.608806, 41.143167], [-8.608302, 41.143005], [-8.60823, 41.142726], [-8.608365, 41.142582], [-8.608419, 41.142411], [-8.608455, 41.142339], [-8.608545, 41.14224]]\n",
      "[[-8.609526, 41.184135], [-8.609526, 41.184117], [-8.609859, 41.184513], [-8.611812, 41.183829], [-8.612073, 41.183703], [-8.612856, 41.183433], [-8.613189, 41.183361], [-8.61318, 41.183343], [-8.613171, 41.183334], [-8.613162, 41.183334], [-8.61318, 41.183325], [-8.614512, 41.183199], [-8.617284, 41.182929], [-8.61939, 41.181777], [-8.620326, 41.181264], [-8.622054, 41.180616], [-8.624673, 41.180067], [-8.627247, 41.179842], [-8.628345, 41.179716], [-8.628327, 41.179707], [-8.62857, 41.179698], [-8.628579, 41.179698], [-8.62884, 41.179662], [-8.630316, 41.179509], [-8.632656, 41.179329], [-8.634717, 41.180472], [-8.636985, 41.181732], [-8.639325, 41.183037], [-8.641179, 41.18409], [-8.641368, 41.184954], [-8.640693, 41.186277], [-8.641827, 41.186952], [-8.641836, 41.187249], [-8.641413, 41.18832], [-8.641431, 41.188419], [-8.64144, 41.188473], [-8.641431, 41.188464], [-8.641449, 41.188455], [-8.641449, 41.188464], [-8.641431, 41.188473], [-8.641404, 41.188509], [-8.641395, 41.188518], [-8.641395, 41.188482], [-8.641395, 41.188464], [-8.641413, 41.188464], [-8.641431, 41.188473], [-8.641431, 41.188482], [-8.64144, 41.188482], [-8.641449, 41.188464], [-8.641377, 41.188635], [-8.641206, 41.189265], [-8.641278, 41.189346], [-8.641953, 41.18913], [-8.642763, 41.188977], [-8.642916, 41.18895], [-8.643204, 41.188914], [-8.643861, 41.188671], [-8.644167, 41.188374], [-8.64477, 41.188032], [-8.645085, 41.18715], [-8.646273, 41.18598], [-8.647263, 41.184846], [-8.646984, 41.184126], [-8.646696, 41.183649], [-8.646399, 41.183118], [-8.646372, 41.183037], [-8.646363, 41.183046], [-8.646363, 41.183046], [-8.646363, 41.183019], [-8.645994, 41.182317], [-8.645526, 41.181381], [-8.645859, 41.180436], [-8.646129, 41.179374], [-8.64657, 41.178519], [-8.646156, 41.177088], [-8.644545, 41.175567], [-8.642736, 41.173929], [-8.641314, 41.172921], [-8.640036, 41.172957], [-8.639334, 41.172138], [-8.638326, 41.170698], [-8.637174, 41.169474], [-8.636922, 41.169294], [-8.636463, 41.168997], [-8.637318, 41.168214], [-8.638551, 41.166558], [-8.638668, 41.166117], [-8.638812, 41.166027], [-8.638947, 41.166018], [-8.638983, 41.166045], [-8.638992, 41.166045], [-8.639037, 41.166045], [-8.639046, 41.166036], [-8.639055, 41.166045], [-8.639037, 41.166054], [-8.639145, 41.166072], [-8.639199, 41.166189], [-8.639217, 41.16618], [-8.639244, 41.166162], [-8.639244, 41.166171], [-8.639226, 41.166189], [-8.639199, 41.166207], [-8.63919, 41.166207], [-8.639181, 41.166207], [-8.639181, 41.166198], [-8.639199, 41.166189], [-8.639208, 41.166171], [-8.639208, 41.166162], [-8.639226, 41.166153], [-8.639244, 41.166135], [-8.639235, 41.166135], [-8.639226, 41.166144], [-8.639235, 41.166144], [-8.639244, 41.166135], [-8.639253, 41.166135], [-8.639244, 41.166162], [-8.639235, 41.16618], [-8.639235, 41.16618], [-8.639244, 41.16618], [-8.639262, 41.166171], [-8.639262, 41.166162], [-8.639244, 41.16618], [-8.639235, 41.166189], [-8.639235, 41.166189], [-8.639244, 41.16618], [-8.639235, 41.16618], [-8.639244, 41.166189], [-8.639244, 41.16618], [-8.639244, 41.166171], [-8.639235, 41.16618], [-8.639226, 41.16618], [-8.639208, 41.166198], [-8.639199, 41.166207], [-8.639208, 41.166207], [-8.639199, 41.166207], [-8.639199, 41.166207], [-8.639199, 41.166198], [-8.639163, 41.166279], [-8.638974, 41.166657], [-8.638893, 41.166117], [-8.638938, 41.166036], [-8.638947, 41.166027], [-8.638434, 41.166621], [-8.637435, 41.168106], [-8.636472, 41.16861], [-8.636382, 41.168664], [-8.635203, 41.168259], [-8.634636, 41.167206], [-8.63325, 41.166981], [-8.632494, 41.165829], [-8.632431, 41.16573], [-8.632278, 41.165505], [-8.632125, 41.165217], [-8.632125, 41.165217], [-8.632134, 41.165208], [-8.632044, 41.165064], [-8.631918, 41.16483], [-8.631918, 41.164821], [-8.631909, 41.164803], [-8.631909, 41.164785], [-8.632683, 41.164164], [-8.634627, 41.163219], [-8.634924, 41.163057], [-8.635032, 41.162985], [-8.635338, 41.162832], [-8.635644, 41.162706], [-8.635653, 41.162679], [-8.636508, 41.162292], [-8.636796, 41.16222], [-8.636769, 41.162211], [-8.636904, 41.162139], [-8.638254, 41.161644], [-8.639757, 41.160915], [-8.640999, 41.1606], [-8.64207, 41.160231], [-8.643456, 41.160474], [-8.643582, 41.160483], [-8.644032, 41.160312], [-8.644914, 41.158836], [-8.645481, 41.157576], [-8.644131, 41.157522], [-8.644086, 41.157504], [-8.644077, 41.157531], [-8.64405, 41.15754]]\n",
      "[[-8.58555, 41.16762], [-8.586099, 41.167215], [-8.586972, 41.166945], [-8.588358, 41.166198], [-8.587215, 41.166666], [-8.584857, 41.166513], [-8.582688, 41.165172], [-8.582175, 41.163435], [-8.580672, 41.163867], [-8.578854, 41.164695], [-8.576946, 41.166342], [-8.574516, 41.16798], [-8.57178, 41.169528], [-8.570655, 41.16942], [-8.570448, 41.167584], [-8.570727, 41.166333], [-8.569863, 41.166108], [-8.56773, 41.166342], [-8.565525, 41.166729], [-8.56314, 41.167593], [-8.560908, 41.16861], [-8.560602, 41.168871], [-8.560602, 41.168871], [-8.560611, 41.168871], [-8.560242, 41.169564], [-8.560188, 41.171103], [-8.56008, 41.171904], [-8.559081, 41.171922], [-8.558406, 41.171868], [-8.558127, 41.171841], [-8.558109, 41.171778], [-8.558091, 41.171814], [-8.558073, 41.171814], [-8.558055, 41.171814], [-8.558073, 41.171832], [-8.558091, 41.171841], [-8.558082, 41.171805], [-8.558073, 41.171778], [-8.558073, 41.171823], [-8.558055, 41.171823], [-8.5581, 41.171832], [-8.558145, 41.17185], [-8.558163, 41.171877], [-8.558145, 41.171868], [-8.558109, 41.171859], [-8.558145, 41.171841], [-8.558163, 41.171841], [-8.558154, 41.17185], [-8.558118, 41.171886], [-8.558109, 41.171886], [-8.558154, 41.171823], [-8.558181, 41.171814], [-8.558181, 41.171823], [-8.558145, 41.171886], [-8.558145, 41.171904], [-8.558163, 41.171859], [-8.558172, 41.171859], [-8.558145, 41.171859], [-8.558127, 41.171886], [-8.558127, 41.171859], [-8.558109, 41.171769], [-8.558109, 41.171751], [-8.558109, 41.171805], [-8.558145, 41.171886], [-8.558154, 41.171877], [-8.558163, 41.171886], [-8.558172, 41.171841], [-8.558199, 41.17185], [-8.558217, 41.171895], [-8.558208, 41.171931], [-8.558217, 41.171913], [-8.558235, 41.171859], [-8.558262, 41.171823], [-8.558289, 41.171868], [-8.558316, 41.171904], [-8.558307, 41.171958], [-8.55837, 41.171895], [-8.558397, 41.171814], [-8.558415, 41.171823], [-8.558415, 41.171922], [-8.558424, 41.172021], [-8.558388, 41.17203], [-8.558244, 41.171994], [-8.558244, 41.171976], [-8.558163, 41.171814], [-8.558082, 41.171706], [-8.558001, 41.171679], [-8.557911, 41.171652], [-8.557911, 41.171688], [-8.557938, 41.171634], [-8.558019, 41.171535], [-8.558064, 41.171526], [-8.558136, 41.171562], [-8.558226, 41.171616], [-8.55828, 41.171652], [-8.558253, 41.171661], [-8.558199, 41.171679], [-8.558154, 41.171715], [-8.558154, 41.17176], [-8.558154, 41.171787], [-8.558163, 41.171787], [-8.55819, 41.171787], [-8.558226, 41.171796], [-8.558253, 41.171814], [-8.558244, 41.171805], [-8.558217, 41.171805], [-8.558199, 41.171796], [-8.558235, 41.17176], [-8.558289, 41.17176], [-8.558298, 41.171769], [-8.558298, 41.171796], [-8.558316, 41.171814], [-8.558325, 41.171832], [-8.558343, 41.171832], [-8.558361, 41.171832], [-8.558361, 41.171832], [-8.55837, 41.171823], [-8.558379, 41.171832], [-8.558379, 41.171841], [-8.558361, 41.171832], [-8.558352, 41.171841], [-8.558334, 41.171841], [-8.558334, 41.17185], [-8.558343, 41.171877], [-8.558352, 41.171814], [-8.55855, 41.171796], [-8.558604, 41.17158], [-8.560422, 41.171058], [-8.560404, 41.169717], [-8.560494, 41.169213], [-8.561709, 41.168205], [-8.56359, 41.167476], [-8.565444, 41.166819], [-8.566632, 41.166675], [-8.56728, 41.16717], [-8.568072, 41.167476], [-8.568702, 41.167593], [-8.570376, 41.16771], [-8.570286, 41.169186], [-8.57034, 41.168736], [-8.57241, 41.169069], [-8.572509, 41.16915], [-8.572536, 41.169177], [-8.572878, 41.16915], [-8.574831, 41.1678], [-8.577207, 41.166252], [-8.578215, 41.166045], [-8.578764, 41.165802], [-8.579043, 41.165505], [-8.5797, 41.165766], [-8.578809, 41.166828], [-8.578935, 41.167386], [-8.579655, 41.16798], [-8.580888, 41.168358], [-8.581365, 41.168493], [-8.581572, 41.168457], [-8.581779, 41.168394], [-8.582274, 41.16834], [-8.583606, 41.168331], [-8.584461, 41.167656], [-8.585199, 41.167683], [-8.585145, 41.167755], [-8.585163, 41.16753], [-8.585181, 41.167431], [-8.585271, 41.167431], [-8.58528, 41.167449], [-8.585289, 41.167467], [-8.585307, 41.167476], [-8.585316, 41.167512], [-8.585325, 41.16753], [-8.585316, 41.167557], [-8.585316, 41.167566], [-8.585325, 41.167557], [-8.585352, 41.167512], [-8.585361, 41.167494], [-8.585343, 41.167494], [-8.585334, 41.16753], [-8.585298, 41.167539], [-8.585316, 41.167557], [-8.585298, 41.167557], [-8.585307, 41.167575], [-8.585298, 41.167566], [-8.585397, 41.167494]]\n"
     ]
    },
    {
     "data": {
      "image/png": "[encoded data removed]",
      "text/plain": [
       "<Figure size 640x480 with 1 Axes>"
      ]
     },
     "metadata": {},
     "output_type": "display_data"
    }
   ],
   "source": [
    "# Find the indices and values of the top 10 highest losses\n",
    "top_loss_values, top_loss_indices = torch.topk(loss_tensor, k=10, largest=True)\n",
    "\n",
    "# Print the indices and corresponding losses\n",
    "for value, index in zip(top_loss_values, top_loss_indices):\n",
    "    # print(\"Index:\", index.item(), \"Loss:\", value.item())\n",
    "    polyline = trds.df[index.item():index.item()+1]['POLYLINE'].values[0]\n",
    "    polyline_array = ast.literal_eval(polyline)\n",
    "    longitude_values = [row[0] for row in polyline_array]  # First column elements\n",
    "    latitude_values = [row[1] for row in polyline_array]  # Second column elements\n",
    "    print(polyline_array)\n",
    "    plt.plot(longitude_values, latitude_values, label = str(index.item()), alpha=0.6)\n",
    "\n",
    "    # print(x_vals)\n",
    "\n",
    "# plt.plot()\n",
    "plt.xlabel(\"Longitude\")\n",
    "plt.ylabel(\"Latitude\")\n",
    "# plt.legend()\n",
    "plt.title(\"Map of 10 Taxi Trips with Highest Training Error\")\n",
    "plt.show()\n",
    "\n"
   ]
  },
  {
   "cell_type": "code",
   "execution_count": 314,
   "metadata": {},
   "outputs": [
    {
     "name": "stdout",
     "output_type": "stream",
     "text": [
      "Total Loss: 635.196\n"
     ]
    }
   ],
   "source": [
    "# with torch.no_grad():\n",
    "#     total_loss = 0.0\n",
    "#     for i, data in enumerate(val_loader, 0):\n",
    "\n",
    "#         # get the inputs; data is a list of [inputs, labels]\n",
    "#         inputs, labels = data\n",
    "\n",
    "\n",
    "#         # forward + backward + optimize\n",
    "#         labels=labels\n",
    "#         outputs = net(inputs)\n",
    "        \n",
    "#         loss = criterion(outputs, labels)\n",
    "\n",
    "\n",
    "#         # print statistics\n",
    "#         total_loss += loss.item()\n",
    "#         # if i%1000==0:\n",
    "#         #     print(round(loss.item()), outputs, labels)\n",
    "\n",
    "# print(f'Total Loss: {total_loss / len(val_loader):.3f}')\n"
   ]
  },
  {
   "cell_type": "code",
   "execution_count": 136,
   "metadata": {},
   "outputs": [
    {
     "name": "stdout",
     "output_type": "stream",
     "text": [
      "[766.5413208007812, 667.6160888671875, 767.7797241210938, 634.6720581054688, 725.2482299804688, 712.5795288085938, 767.0057373046875, 707.9356079101562, 745.2899169921875, 769.1729736328125, 600.3084716796875, 731.551513671875, 731.0870971679688, 738.421142578125, 732.9447021484375, 734.6474609375, 731.8611450195312, 733.4090576171875, 767.3152465820312, 737.124267578125, 766.3865966796875, 707.7808837890625, 709.622802734375, 766.2317504882812, 658.4505004882812, 732.4895629882812, 767.0057373046875, 766.2317504882812, 636.6326293945312, 767.6249389648438, 767.9345092773438, 667.1516723632812, 732.3255004882812, 730.9323120117188, 732.7899169921875, 736.9694213867188, 864.7465209960938, 594.0904541015625, 766.3865966796875, 648.3621215820312, 633.3643798828125, 731.0870971679688, 732.3255004882812, 745.9091796875, 626.0264282226562, 631.1588745117188, 732.015869140625, 731.551513671875, 572.9459838867188, 600.1536254882812, 621.6449584960938, 678.3794555664062, 593.7809448242188, 767.7797241210938, 767.6249389648438, 598.6880493164062, 745.75439453125, 641.5758666992188, 738.6077880859375, 708.7095947265625, 766.6961059570312, 731.2418823242188, 731.551513671875, 864.0013427734375, 744.5159912109375, 745.9091796875, 767.1605834960938, 711.3412475585938, 732.4802856445312, 619.477783203125, 742.3338012695312, 735.1118774414062, 766.5413208007812, 733.8734741210938, 679.1870727539062, 766.48974609375, 607.9545288085938, 766.450927734375, 766.48974609375, 766.3667602539062, 744.7754516601562, 731.6060791015625, 744.7495727539062, 744.671875, 697.1724853515625, 744.7625122070312, 766.4315185546875, 766.450927734375, 652.5877075195312, 744.7495727539062, 893.2528076171875, 766.4315185546875, 766.4443969726562, 893.3304443359375, 639.8258666992188, 766.276123046875, 744.671875, 744.7172241210938, 744.7948608398438, 766.41845703125, 697.1077880859375, 761.0081787109375, 766.43798828125, 707.961181640625, 707.9675903320312, 744.807861328125, 780.6942138671875, 674.3172607421875, 761.0794067382812, 893.3304443359375, 744.7819213867188, 893.323974609375, 659.5188598632812, 774.1248779296875, 744.7819213867188, 766.476806640625, 684.2409057617188, 655.35205078125, 766.4249877929688, 710.9800415039062, 744.7754516601562, 744.8142700195312, 744.8272094726562, 744.7948608398438, 707.8964233398438, 675.8264770507812, 766.450927734375, 744.7754516601562, 766.412109375, 707.9481811523438, 707.97412109375, 679.2130126953125, 765.9934692382812, 766.48974609375, 766.48974609375, 766.43798828125, 799.8953857421875, 684.2861938476562, 744.7689819335938, 744.7560424804688, 766.4703369140625, 707.9675903320312, 744.684814453125, 799.707763671875, 744.788330078125, 744.7948608398438, 652.65234375, 766.412109375, 761.0276489257812, 667.8934936523438, 744.807861328125, 864.689208984375, 734.0282592773438, 709.947998046875, 735.1118774414062, 662.1952514648438, 748.8280029296875, 709.793212890625, 670.2476806640625, 769.4824829101562, 865.033203125, 734.9570922851562, 710.5672607421875, 644.8265991210938, 710.2576293945312, 597.6509399414062, 741.7606201171875, 710.2576293945312, 733.2543334960938, 727.7249755859375, 710.3848876953125, 737.1334228515625, 733.8734741210938, 625.8245239257812, 633.9835815429688, 733.2543334960938, 749.159912109375, 709.793212890625, 711.8056030273438, 710.5672607421875, 674.2445068359375, 636.9940185546875, 710.7220458984375, 733.4090576171875, 651.1485595703125, 733.2543334960938, 864.9185180664062, 600.3909301757812, 637.3035888671875, 739.6969604492188, 779.6744384765625, 575.5774536132812, 710.102783203125, 734.3378295898438, 749.7568969726562, 733.5638427734375, 733.2543334960938, 575.1130981445312, 741.1300659179688, 675.0184936523438, 745.2000732421875, 709.947998046875, 638.5153198242188, 737.2789916992188, 733.7186889648438, 579.3770141601562, 729.1182250976562, 709.793212890625, 709.947998046875, 737.4338989257812, 671.7957153320312, 637.3035888671875, 738.7797241210938, 680.5465698242188, 628.01611328125, 713.9727783203125, 621.1358032226562, 652.7772216796875, 637.8709106445312, 769.4824829101562, 739.5249633789062, 735.4214477539062, 869.7338256835938, 735.2666625976562, 746.06396484375, 631.2157592773438, 733.8734741210938, 864.8612060546875, 592.1570434570312, 655.1168823242188, 591.9606323242188, 654.7387084960938, 654.6441040039062, 654.7387084960938, 655.1168823242188, 655.0223388671875, 655.4004516601562, 654.7387084960938, 654.1582641601562, 563.5797119140625, 655.21142578125, 655.305908203125, 548.2809448242188, 650.4533081054688, 655.0223388671875, 653.7785034179688, 592.1324462890625, 653.8544311523438, 654.9277954101562, 548.4747924804688, 606.2261352539062, 655.5896606445312, 778.2391357421875, 654.2341918945312, 548.4747924804688, 655.305908203125, 655.4951171875, 654.7387084960938, 655.4951171875, 655.305908203125, 655.21142578125, 655.21142578125, 654.7387084960938, 654.549560546875, 655.4951171875, 548.9857788085938, 655.4004516601562, 655.305908203125, 654.833251953125, 654.0823364257812, 655.1168823242188, 655.5896606445312, 654.2341918945312, 568.6366577148438, 655.1168823242188, 558.3601684570312, 549.3690795898438, 655.4951171875, 655.1168823242188, 655.5896606445312, 651.083251953125, 655.5896606445312, 655.1168823242188, 549.1135864257812, 654.833251953125, 649.5491943359375, 655.1168823242188, 654.4620361328125, 655.1168823242188, 655.21142578125, 636.194580078125, 756.9517211914062, 730.073974609375, 752.1364135742188, 729.7299194335938, 642.8828125, 729.443359375, 662.4234619140625, 751.2764892578125, 752.1364135742188, 760.7350463867188, 755.174560546875, 729.500732421875, 760.8497314453125, 729.6726684570312, 729.6726684570312, 729.5579833984375, 729.6152954101562, 751.3912353515625, 729.6726684570312, 698.288330078125, 730.3604736328125, 736.8955078125, 754.887939453125, 752.021728515625, 729.9592895507812, 663.340576171875, 751.1618041992188, 729.500732421875, 730.0166015625]\n",
      "    TRIP_ID  TRAVEL_TIME\n",
      "0        T1   766.541321\n",
      "1        T2   667.616089\n",
      "2        T3   767.779724\n",
      "3        T4   634.672058\n",
      "4        T5   725.248230\n",
      "..      ...          ...\n",
      "315    T323   729.959290\n",
      "316    T324   663.340576\n",
      "317    T325   751.161804\n",
      "318    T326   729.500732\n",
      "319    T327   730.016602\n",
      "\n",
      "[320 rows x 2 columns]\n",
      "mean 707.0651416778564\n",
      "std 64.76522397832272\n",
      "median 729.6439819335938\n",
      "min 548.2809448242188\n",
      "max 893.3304443359375\n",
      "----------\n"
     ]
    },
    {
     "data": {
      "text/plain": [
       "<seaborn.axisgrid.FacetGrid at 0x29cc5ffdcc0>"
      ]
     },
     "execution_count": 136,
     "metadata": {},
     "output_type": "execute_result"
    },
    {
     "data": {
      "image/png": "[encoded data removed]",
      "text/plain": [
       "<Figure size 500x500 with 1 Axes>"
      ]
     },
     "metadata": {},
     "output_type": "display_data"
    }
   ],
   "source": [
    "\n"
   ]
  },
  {
   "cell_type": "code",
   "execution_count": 316,
   "metadata": {},
   "outputs": [],
   "source": [
    "# # Sample submission file that is given on kaggle\n",
    "# df_sample = pd.read_csv(\"archive/sampleSubmission.csv\")\n",
    "\n",
    "# df_sample[\"TRAVEL_TIME\"] = 716.43\n",
    "\n",
    "# # mean(716.43) -> 792.73593\n",
    "# # median(600) -> 784.74219\n",
    "# df_sample.to_csv(\"my_pred.csv\", index=None)"
   ]
  },
  {
   "attachments": {},
   "cell_type": "markdown",
   "metadata": {},
   "source": [
    "**Boosted Decision Trees**\n"
   ]
  },
  {
   "cell_type": "code",
   "execution_count": 93,
   "metadata": {},
   "outputs": [],
   "source": [
    "def processCSV(csvname):\n",
    "  xg_train = pd.read_csv(csvname)\n",
    "  df_tr = xg_train\n",
    "  if \"POLYLINE\" not in df_tr: #test dataset\n",
    "    df_tr[\"POLYLINE\"]=\"[[[\"\n",
    "    df_tr[\"LEN\"] = df_tr[\"POLYLINE\"].apply(polyline_to_trip_duration)\n",
    "  else: \n",
    "    df_tr[\"LEN\"] = df_tr[\"POLYLINE\"].apply(polyline_to_trip_duration)\n",
    "    mean, std = df_tr[\"LEN\"].mean(), df_tr[\"LEN\"].std()\n",
    "    median = df_tr[\"LEN\"].median()\n",
    "    outlier_threshold = 3\n",
    "    print(mean, std)\n",
    "    df_trimmed = df_tr[df_tr[\"LEN\"] < mean + outlier_threshold * std]\n",
    "    df_trimmed = df_trimmed[df_trimmed['MISSING_DATA'] == False]\n",
    "    print(\"Before Trimming: \" + str(len(df_tr)))\n",
    "    print(\"After Trimming: \" + str(len(df_trimmed)))\n",
    "    df_tr = df_trimmed\n",
    "    # first trim the dataset\n",
    "\n",
    "  df_tr[[\"YR\", \"MON\", \"DAY\", \"HR\", \"WK\"]] = df_tr[[\"TIMESTAMP\"]].apply(parse_time, axis=1, result_type=\"expand\")\n",
    "  df_tr[\"MIDMINS\"] = df_tr[[\"TIMESTAMP\"]].apply(parse_midnight_minutes, axis=1, result_type=\"expand\")\n",
    "\n",
    "  LetterToIndex = {'A': 0, 'B': 1, 'C': 2}\n",
    "  df_trimmed_copy = df_tr\n",
    "  # print('there was ' + str(len(df_trimmed_copy['LEN'] == 0)) + \" zeroes\")\n",
    "  # df_trimmed_copy = df_trimmed_copy[df_trimmed_copy['LEN'] != 0]\n",
    "\n",
    "  y_train = df_trimmed_copy[\"LEN\"]\n",
    "  df_trimmed_copy[\"CALL_TYPE\"] = df_trimmed_copy[\"CALL_TYPE\"].map(LetterToIndex)\n",
    "  # df_trimmed_copy[\"DAY_TYPE\"] = df_trimmed_copy[\"DAY_TYPE\"].map(LetterToIndex)\n",
    "  #took out \"TRIP_ID\"\n",
    "  # x_train = df_trimmed_copy[[\"TRIP_ID\", \"CALL_TYPE\", \"ORIGIN_CALL\", \"ORIGIN_STAND\", \"TAXI_ID\", \"YR\", \"MON\", \"DAY\", \"HR\", \"WK\", \"MIDMINS\"]]\n",
    "  return df_trimmed_copy, y_train"
   ]
  },
  {
   "cell_type": "code",
   "execution_count": null,
   "metadata": {},
   "outputs": [],
   "source": []
  },
  {
   "cell_type": "code",
   "execution_count": 94,
   "metadata": {},
   "outputs": [
    {
     "name": "stdout",
     "output_type": "stream",
     "text": [
      "716.4264615618442 684.7511617508213\n",
      "Before Trimming: 1710670\n",
      "After Trimming: 1692763\n"
     ]
    }
   ],
   "source": [
    "x_train_unfiltered, y_train = processCSV('archive/train.csv')"
   ]
  },
  {
   "cell_type": "code",
   "execution_count": 95,
   "metadata": {},
   "outputs": [],
   "source": [
    "x_train = x_train_unfiltered[[\"TRIP_ID\", \"CALL_TYPE\", \"ORIGIN_CALL\", \"ORIGIN_STAND\", \"TAXI_ID\", \"YR\", \"MON\", \"HR\", \"WK\", \"MIDMINS\"]]"
   ]
  },
  {
   "cell_type": "code",
   "execution_count": 106,
   "metadata": {},
   "outputs": [
    {
     "data": {
      "text/html": [
       "<div>\n",
       "<style scoped>\n",
       "    .dataframe tbody tr th:only-of-type {\n",
       "        vertical-align: middle;\n",
       "    }\n",
       "\n",
       "    .dataframe tbody tr th {\n",
       "        vertical-align: top;\n",
       "    }\n",
       "\n",
       "    .dataframe thead th {\n",
       "        text-align: right;\n",
       "    }\n",
       "</style>\n",
       "<table border=\"1\" class=\"dataframe\">\n",
       "  <thead>\n",
       "    <tr style=\"text-align: right;\">\n",
       "      <th></th>\n",
       "      <th>CALL_TYPE</th>\n",
       "      <th>ORIGIN_CALL</th>\n",
       "      <th>ORIGIN_STAND</th>\n",
       "      <th>TAXI_ID</th>\n",
       "      <th>YR</th>\n",
       "      <th>MON</th>\n",
       "      <th>HR</th>\n",
       "      <th>WK</th>\n",
       "      <th>MIDMINS</th>\n",
       "    </tr>\n",
       "  </thead>\n",
       "  <tbody>\n",
       "    <tr>\n",
       "      <th>0</th>\n",
       "      <td>2</td>\n",
       "      <td>NaN</td>\n",
       "      <td>NaN</td>\n",
       "      <td>20000589</td>\n",
       "      <td>2013</td>\n",
       "      <td>6</td>\n",
       "      <td>17</td>\n",
       "      <td>6</td>\n",
       "      <td>1020</td>\n",
       "    </tr>\n",
       "    <tr>\n",
       "      <th>1</th>\n",
       "      <td>1</td>\n",
       "      <td>NaN</td>\n",
       "      <td>7.0</td>\n",
       "      <td>20000596</td>\n",
       "      <td>2013</td>\n",
       "      <td>6</td>\n",
       "      <td>17</td>\n",
       "      <td>6</td>\n",
       "      <td>1028</td>\n",
       "    </tr>\n",
       "    <tr>\n",
       "      <th>2</th>\n",
       "      <td>2</td>\n",
       "      <td>NaN</td>\n",
       "      <td>NaN</td>\n",
       "      <td>20000320</td>\n",
       "      <td>2013</td>\n",
       "      <td>6</td>\n",
       "      <td>17</td>\n",
       "      <td>6</td>\n",
       "      <td>1022</td>\n",
       "    </tr>\n",
       "    <tr>\n",
       "      <th>3</th>\n",
       "      <td>2</td>\n",
       "      <td>NaN</td>\n",
       "      <td>NaN</td>\n",
       "      <td>20000520</td>\n",
       "      <td>2013</td>\n",
       "      <td>6</td>\n",
       "      <td>17</td>\n",
       "      <td>6</td>\n",
       "      <td>1020</td>\n",
       "    </tr>\n",
       "    <tr>\n",
       "      <th>4</th>\n",
       "      <td>2</td>\n",
       "      <td>NaN</td>\n",
       "      <td>NaN</td>\n",
       "      <td>20000337</td>\n",
       "      <td>2013</td>\n",
       "      <td>6</td>\n",
       "      <td>17</td>\n",
       "      <td>6</td>\n",
       "      <td>1024</td>\n",
       "    </tr>\n",
       "    <tr>\n",
       "      <th>...</th>\n",
       "      <td>...</td>\n",
       "      <td>...</td>\n",
       "      <td>...</td>\n",
       "      <td>...</td>\n",
       "      <td>...</td>\n",
       "      <td>...</td>\n",
       "      <td>...</td>\n",
       "      <td>...</td>\n",
       "      <td>...</td>\n",
       "    </tr>\n",
       "    <tr>\n",
       "      <th>1710665</th>\n",
       "      <td>2</td>\n",
       "      <td>NaN</td>\n",
       "      <td>NaN</td>\n",
       "      <td>20000698</td>\n",
       "      <td>2014</td>\n",
       "      <td>6</td>\n",
       "      <td>16</td>\n",
       "      <td>0</td>\n",
       "      <td>997</td>\n",
       "    </tr>\n",
       "    <tr>\n",
       "      <th>1710666</th>\n",
       "      <td>2</td>\n",
       "      <td>NaN</td>\n",
       "      <td>NaN</td>\n",
       "      <td>20000670</td>\n",
       "      <td>2014</td>\n",
       "      <td>6</td>\n",
       "      <td>16</td>\n",
       "      <td>0</td>\n",
       "      <td>996</td>\n",
       "    </tr>\n",
       "    <tr>\n",
       "      <th>1710667</th>\n",
       "      <td>2</td>\n",
       "      <td>NaN</td>\n",
       "      <td>NaN</td>\n",
       "      <td>20000264</td>\n",
       "      <td>2014</td>\n",
       "      <td>1</td>\n",
       "      <td>2</td>\n",
       "      <td>4</td>\n",
       "      <td>161</td>\n",
       "    </tr>\n",
       "    <tr>\n",
       "      <th>1710668</th>\n",
       "      <td>1</td>\n",
       "      <td>NaN</td>\n",
       "      <td>12.0</td>\n",
       "      <td>20000248</td>\n",
       "      <td>2014</td>\n",
       "      <td>6</td>\n",
       "      <td>8</td>\n",
       "      <td>0</td>\n",
       "      <td>503</td>\n",
       "    </tr>\n",
       "    <tr>\n",
       "      <th>1710669</th>\n",
       "      <td>1</td>\n",
       "      <td>NaN</td>\n",
       "      <td>34.0</td>\n",
       "      <td>20000079</td>\n",
       "      <td>2014</td>\n",
       "      <td>6</td>\n",
       "      <td>12</td>\n",
       "      <td>0</td>\n",
       "      <td>759</td>\n",
       "    </tr>\n",
       "  </tbody>\n",
       "</table>\n",
       "<p>1692763 rows × 9 columns</p>\n",
       "</div>"
      ],
      "text/plain": [
       "         CALL_TYPE  ORIGIN_CALL  ORIGIN_STAND   TAXI_ID    YR  MON  HR  WK  \\\n",
       "0                2          NaN           NaN  20000589  2013    6  17   6   \n",
       "1                1          NaN           7.0  20000596  2013    6  17   6   \n",
       "2                2          NaN           NaN  20000320  2013    6  17   6   \n",
       "3                2          NaN           NaN  20000520  2013    6  17   6   \n",
       "4                2          NaN           NaN  20000337  2013    6  17   6   \n",
       "...            ...          ...           ...       ...   ...  ...  ..  ..   \n",
       "1710665          2          NaN           NaN  20000698  2014    6  16   0   \n",
       "1710666          2          NaN           NaN  20000670  2014    6  16   0   \n",
       "1710667          2          NaN           NaN  20000264  2014    1   2   4   \n",
       "1710668          1          NaN          12.0  20000248  2014    6   8   0   \n",
       "1710669          1          NaN          34.0  20000079  2014    6  12   0   \n",
       "\n",
       "         MIDMINS  \n",
       "0           1020  \n",
       "1           1028  \n",
       "2           1022  \n",
       "3           1020  \n",
       "4           1024  \n",
       "...          ...  \n",
       "1710665      997  \n",
       "1710666      996  \n",
       "1710667      161  \n",
       "1710668      503  \n",
       "1710669      759  \n",
       "\n",
       "[1692763 rows x 9 columns]"
      ]
     },
     "execution_count": 106,
     "metadata": {},
     "output_type": "execute_result"
    }
   ],
   "source": [
    "x_train.drop(columns=['TRIP_ID'])#this doesnt actually drop, just without tripid"
   ]
  },
  {
   "cell_type": "code",
   "execution_count": 97,
   "metadata": {},
   "outputs": [
    {
     "data": {
      "text/plain": [
       "0          330\n",
       "1          270\n",
       "2          960\n",
       "3          630\n",
       "4          420\n",
       "          ... \n",
       "1710665    465\n",
       "1710666    435\n",
       "1710667      0\n",
       "1710668    915\n",
       "1710669    390\n",
       "Name: LEN, Length: 1692763, dtype: int64"
      ]
     },
     "execution_count": 97,
     "metadata": {},
     "output_type": "execute_result"
    }
   ],
   "source": [
    "y_train"
   ]
  },
  {
   "cell_type": "code",
   "execution_count": 99,
   "metadata": {},
   "outputs": [
    {
     "name": "stdout",
     "output_type": "stream",
     "text": [
      "[0]\tvalidation-rmse:616.87654\n",
      "[100]\tvalidation-rmse:386.86210\n",
      "[200]\tvalidation-rmse:384.92320\n",
      "[300]\tvalidation-rmse:383.91011\n",
      "[400]\tvalidation-rmse:383.06533\n",
      "[499]\tvalidation-rmse:382.58843\n"
     ]
    }
   ],
   "source": [
    "import xgboost as xgb\n",
    "from xgboost import XGBRegressor\n",
    "from sklearn.model_selection import train_test_split\n",
    "from sklearn.metrics import mean_squared_error\n",
    "\n",
    "\n",
    "# shuffle_indices = np.random.permutation(len(x_train))\n",
    "# X_shuffled = x_train[shuffle_indices]\n",
    "# y_shuffled = y_train[shuffle_indices]\n",
    "\n",
    "combined_df = pd.concat([x_train, y_train], axis=1)\n",
    "\n",
    "# Get the number of rows in the DataFrame\n",
    "num_rows = combined_df.shape[0]\n",
    "\n",
    "# Generate a random permutation of indices\n",
    "perm = np.random.permutation(num_rows)\n",
    "\n",
    "# Shuffle the combined DataFrame using the permutation\n",
    "shuffled_df = combined_df.iloc[perm]\n",
    "\n",
    "# Split the shuffled DataFrame back into separate DataFrames\n",
    "shuffled_train_df = shuffled_df.iloc[:, :-1]\n",
    "shuffled_label_df = shuffled_df.iloc[:, -1]\n",
    "\n",
    "X_train, X_val, Y_train, Y_val = train_test_split(shuffled_train_df, shuffled_label_df, test_size=0.3, random_state=None)\n",
    "\n",
    "# Assuming you have a DataFrame called 'df' with features and target variables\n",
    "\n",
    "# Convert DataFrame to DMatrix\n",
    "data_matrix = xgb.DMatrix(data = X_train.drop(columns=['TRIP_ID']), label=Y_train)\n",
    "validation_matrix = xgb.DMatrix(data = X_val.drop(columns=['TRIP_ID']), label=Y_val)\n",
    "\n",
    "parameters = {\n",
    "    'objective': 'reg:squarederror',\n",
    "    # 'colsample_bytree': 0.5586586280723452,\n",
    "    # 'learning_rate': 0.06889888561468978,\n",
    "    'max_depth': 3,\n",
    "    # 'n_estimators': 1164,\n",
    "    # 'reg_alpha': 25.287638310615133,\n",
    "    # 'reg_lambda': 67.51702941180568,\n",
    "    # 'subsample': 0.77179392553171\n",
    "}\n",
    "\n",
    "xg_model = xgb.train(parameters, data_matrix, num_boost_round=50, early_stopping_rounds=10, evals=[(validation_matrix, 'validation')], verbose_eval=100)"
   ]
  },
  {
   "cell_type": "code",
   "execution_count": 113,
   "metadata": {},
   "outputs": [
    {
     "data": {
      "text/html": [
       "<div>\n",
       "<style scoped>\n",
       "    .dataframe tbody tr th:only-of-type {\n",
       "        vertical-align: middle;\n",
       "    }\n",
       "\n",
       "    .dataframe tbody tr th {\n",
       "        vertical-align: top;\n",
       "    }\n",
       "\n",
       "    .dataframe thead th {\n",
       "        text-align: right;\n",
       "    }\n",
       "</style>\n",
       "<table border=\"1\" class=\"dataframe\">\n",
       "  <thead>\n",
       "    <tr style=\"text-align: right;\">\n",
       "      <th></th>\n",
       "      <th>TRIP_ID</th>\n",
       "      <th>CALL_TYPE</th>\n",
       "      <th>ORIGIN_CALL</th>\n",
       "      <th>ORIGIN_STAND</th>\n",
       "      <th>TAXI_ID</th>\n",
       "      <th>YR</th>\n",
       "      <th>MON</th>\n",
       "      <th>HR</th>\n",
       "      <th>WK</th>\n",
       "      <th>MIDMINS</th>\n",
       "    </tr>\n",
       "  </thead>\n",
       "  <tbody>\n",
       "    <tr>\n",
       "      <th>0</th>\n",
       "      <td>T1</td>\n",
       "      <td>1</td>\n",
       "      <td>NaN</td>\n",
       "      <td>15.0</td>\n",
       "      <td>20000542</td>\n",
       "      <td>2014</td>\n",
       "      <td>8</td>\n",
       "      <td>10</td>\n",
       "      <td>3</td>\n",
       "      <td>657</td>\n",
       "    </tr>\n",
       "    <tr>\n",
       "      <th>1</th>\n",
       "      <td>T2</td>\n",
       "      <td>1</td>\n",
       "      <td>NaN</td>\n",
       "      <td>57.0</td>\n",
       "      <td>20000108</td>\n",
       "      <td>2014</td>\n",
       "      <td>8</td>\n",
       "      <td>10</td>\n",
       "      <td>3</td>\n",
       "      <td>650</td>\n",
       "    </tr>\n",
       "    <tr>\n",
       "      <th>2</th>\n",
       "      <td>T3</td>\n",
       "      <td>1</td>\n",
       "      <td>NaN</td>\n",
       "      <td>15.0</td>\n",
       "      <td>20000370</td>\n",
       "      <td>2014</td>\n",
       "      <td>8</td>\n",
       "      <td>10</td>\n",
       "      <td>3</td>\n",
       "      <td>649</td>\n",
       "    </tr>\n",
       "    <tr>\n",
       "      <th>3</th>\n",
       "      <td>T4</td>\n",
       "      <td>1</td>\n",
       "      <td>NaN</td>\n",
       "      <td>53.0</td>\n",
       "      <td>20000492</td>\n",
       "      <td>2014</td>\n",
       "      <td>8</td>\n",
       "      <td>10</td>\n",
       "      <td>3</td>\n",
       "      <td>658</td>\n",
       "    </tr>\n",
       "    <tr>\n",
       "      <th>4</th>\n",
       "      <td>T5</td>\n",
       "      <td>1</td>\n",
       "      <td>NaN</td>\n",
       "      <td>18.0</td>\n",
       "      <td>20000621</td>\n",
       "      <td>2014</td>\n",
       "      <td>8</td>\n",
       "      <td>10</td>\n",
       "      <td>3</td>\n",
       "      <td>659</td>\n",
       "    </tr>\n",
       "    <tr>\n",
       "      <th>...</th>\n",
       "      <td>...</td>\n",
       "      <td>...</td>\n",
       "      <td>...</td>\n",
       "      <td>...</td>\n",
       "      <td>...</td>\n",
       "      <td>...</td>\n",
       "      <td>...</td>\n",
       "      <td>...</td>\n",
       "      <td>...</td>\n",
       "      <td>...</td>\n",
       "    </tr>\n",
       "    <tr>\n",
       "      <th>315</th>\n",
       "      <td>T323</td>\n",
       "      <td>0</td>\n",
       "      <td>70885.0</td>\n",
       "      <td>NaN</td>\n",
       "      <td>20000430</td>\n",
       "      <td>2014</td>\n",
       "      <td>12</td>\n",
       "      <td>6</td>\n",
       "      <td>6</td>\n",
       "      <td>378</td>\n",
       "    </tr>\n",
       "    <tr>\n",
       "      <th>316</th>\n",
       "      <td>T324</td>\n",
       "      <td>1</td>\n",
       "      <td>NaN</td>\n",
       "      <td>53.0</td>\n",
       "      <td>20000020</td>\n",
       "      <td>2014</td>\n",
       "      <td>12</td>\n",
       "      <td>6</td>\n",
       "      <td>6</td>\n",
       "      <td>366</td>\n",
       "    </tr>\n",
       "    <tr>\n",
       "      <th>317</th>\n",
       "      <td>T325</td>\n",
       "      <td>2</td>\n",
       "      <td>NaN</td>\n",
       "      <td>NaN</td>\n",
       "      <td>20000207</td>\n",
       "      <td>2014</td>\n",
       "      <td>12</td>\n",
       "      <td>6</td>\n",
       "      <td>6</td>\n",
       "      <td>388</td>\n",
       "    </tr>\n",
       "    <tr>\n",
       "      <th>318</th>\n",
       "      <td>T326</td>\n",
       "      <td>0</td>\n",
       "      <td>76232.0</td>\n",
       "      <td>NaN</td>\n",
       "      <td>20000667</td>\n",
       "      <td>2014</td>\n",
       "      <td>12</td>\n",
       "      <td>6</td>\n",
       "      <td>6</td>\n",
       "      <td>386</td>\n",
       "    </tr>\n",
       "    <tr>\n",
       "      <th>319</th>\n",
       "      <td>T327</td>\n",
       "      <td>0</td>\n",
       "      <td>31208.0</td>\n",
       "      <td>NaN</td>\n",
       "      <td>20000255</td>\n",
       "      <td>2014</td>\n",
       "      <td>12</td>\n",
       "      <td>6</td>\n",
       "      <td>6</td>\n",
       "      <td>377</td>\n",
       "    </tr>\n",
       "  </tbody>\n",
       "</table>\n",
       "<p>320 rows × 10 columns</p>\n",
       "</div>"
      ],
      "text/plain": [
       "    TRIP_ID  CALL_TYPE  ORIGIN_CALL  ORIGIN_STAND   TAXI_ID    YR  MON  HR  \\\n",
       "0        T1          1          NaN          15.0  20000542  2014    8  10   \n",
       "1        T2          1          NaN          57.0  20000108  2014    8  10   \n",
       "2        T3          1          NaN          15.0  20000370  2014    8  10   \n",
       "3        T4          1          NaN          53.0  20000492  2014    8  10   \n",
       "4        T5          1          NaN          18.0  20000621  2014    8  10   \n",
       "..      ...        ...          ...           ...       ...   ...  ...  ..   \n",
       "315    T323          0      70885.0           NaN  20000430  2014   12   6   \n",
       "316    T324          1          NaN          53.0  20000020  2014   12   6   \n",
       "317    T325          2          NaN           NaN  20000207  2014   12   6   \n",
       "318    T326          0      76232.0           NaN  20000667  2014   12   6   \n",
       "319    T327          0      31208.0           NaN  20000255  2014   12   6   \n",
       "\n",
       "     WK  MIDMINS  \n",
       "0     3      657  \n",
       "1     3      650  \n",
       "2     3      649  \n",
       "3     3      658  \n",
       "4     3      659  \n",
       "..   ..      ...  \n",
       "315   6      378  \n",
       "316   6      366  \n",
       "317   6      388  \n",
       "318   6      386  \n",
       "319   6      377  \n",
       "\n",
       "[320 rows x 10 columns]"
      ]
     },
     "execution_count": 113,
     "metadata": {},
     "output_type": "execute_result"
    }
   ],
   "source": [
    "test_x, test_y = processCSV('archive/test_public.csv')\n",
    "test_x = test_x.drop(columns=[\"DAY_TYPE\", \"MISSING_DATA\", 'POLYLINE', 'LEN', 'TIMESTAMP', 'DAY'])\n",
    "test_x"
   ]
  },
  {
   "cell_type": "code",
   "execution_count": 133,
   "metadata": {},
   "outputs": [],
   "source": [
    "y_pred = xg_model.predict(xgb.DMatrix(test_x.drop(columns=['TRIP_ID'])))\n",
    "# y_pred"
   ]
  },
  {
   "cell_type": "code",
   "execution_count": 134,
   "metadata": {},
   "outputs": [
    {
     "name": "stdout",
     "output_type": "stream",
     "text": [
      "mean 681.43036\n",
      "std 142.55025\n",
      "median 681.061\n",
      "min 42.21386\n",
      "max 1135.8921\n",
      "----------\n"
     ]
    },
    {
     "data": {
      "text/plain": [
       "<seaborn.axisgrid.FacetGrid at 0x29cc5ffece0>"
      ]
     },
     "execution_count": 134,
     "metadata": {},
     "output_type": "execute_result"
    },
    {
     "data": {
      "image/png": "[encoded data removed]",
      "text/plain": [
       "<Figure size 500x500 with 1 Axes>"
      ]
     },
     "metadata": {},
     "output_type": "display_data"
    }
   ],
   "source": [
    "import seaborn as sns\n",
    "ids = test_x[\"TRIP_ID\"].values\n",
    "# print(ids)\n",
    "for i in range(len(y_pred)):\n",
    "    y_pred[i] = y_pred[i] - 75\n",
    "d = {\"TRIP_ID\" : ids, \"TRAVEL_TIME\" : y_pred}\n",
    "newdf = pd.DataFrame(d)\n",
    "# print(newdf)\n",
    "newdf.to_csv(\"another_tree_max_depth3.csv\", index=None)\n",
    "labels = y_pred\n",
    "# print(labels)\n",
    "print('mean', np.mean(labels))\n",
    "print('std', np.std(labels))\n",
    "print('median', np.median(labels))\n",
    "print('min', np.min(labels))\n",
    "print('max', np.max(labels))\n",
    "print('----------')\n",
    "sns.displot(labels).set(title='Travel Times Generated by Boosted Decision Tree')\n",
    "\n"
   ]
  },
  {
   "attachments": {},
   "cell_type": "markdown",
   "metadata": {},
   "source": [
    "### Do some Feature Analysis\n",
    "\n",
    "For our feature analysis, we are looking at which of our engineered features may be useful in making a taxicab time regression model"
   ]
  },
  {
   "cell_type": "code",
   "execution_count": 90,
   "metadata": {},
   "outputs": [
    {
     "name": "stdout",
     "output_type": "stream",
     "text": [
      "Using: 1656255/1656255\n"
     ]
    },
    {
     "ename": "KeyError",
     "evalue": "['YR']",
     "output_type": "error",
     "traceback": [
      "\u001b[1;31m---------------------------------------------------------------------------\u001b[0m",
      "\u001b[1;31mKeyError\u001b[0m                                  Traceback (most recent call last)",
      "Cell \u001b[1;32mIn[90], line 26\u001b[0m\n\u001b[0;32m     23\u001b[0m ax \u001b[39m=\u001b[39m axs[idx \u001b[39m/\u001b[39m\u001b[39m/\u001b[39m \u001b[39m3\u001b[39m, idx \u001b[39m%\u001b[39m \u001b[39m3\u001b[39m]\n\u001b[0;32m     25\u001b[0m \u001b[39m# Remove any rows with invalid values\u001b[39;00m\n\u001b[1;32m---> 26\u001b[0m df_subset \u001b[39m=\u001b[39m df_trimmed\u001b[39m.\u001b[39;49mdropna(subset\u001b[39m=\u001b[39;49mv)\n\u001b[0;32m     28\u001b[0m \u001b[39m# Create a histogram. Look up the documentation for more details\u001b[39;00m\n\u001b[0;32m     29\u001b[0m ax\u001b[39m.\u001b[39mhist2d(df_subset[v][:end], df_subset[\u001b[39m\"\u001b[39m\u001b[39mLEN\u001b[39m\u001b[39m\"\u001b[39m][:end], cmap\u001b[39m=\u001b[39m\u001b[39m\"\u001b[39m\u001b[39mCMRmap\u001b[39m\u001b[39m\"\u001b[39m, bins\u001b[39m=\u001b[39m(\u001b[39m120\u001b[39m,buckets))\n",
      "File \u001b[1;32m~\\AppData\\Local\\Packages\\PythonSoftwareFoundation.Python.3.10_qbz5n2kfra8p0\\LocalCache\\local-packages\\Python310\\site-packages\\pandas\\util\\_decorators.py:331\u001b[0m, in \u001b[0;36mdeprecate_nonkeyword_arguments.<locals>.decorate.<locals>.wrapper\u001b[1;34m(*args, **kwargs)\u001b[0m\n\u001b[0;32m    325\u001b[0m \u001b[39mif\u001b[39;00m \u001b[39mlen\u001b[39m(args) \u001b[39m>\u001b[39m num_allow_args:\n\u001b[0;32m    326\u001b[0m     warnings\u001b[39m.\u001b[39mwarn(\n\u001b[0;32m    327\u001b[0m         msg\u001b[39m.\u001b[39mformat(arguments\u001b[39m=\u001b[39m_format_argument_list(allow_args)),\n\u001b[0;32m    328\u001b[0m         \u001b[39mFutureWarning\u001b[39;00m,\n\u001b[0;32m    329\u001b[0m         stacklevel\u001b[39m=\u001b[39mfind_stack_level(),\n\u001b[0;32m    330\u001b[0m     )\n\u001b[1;32m--> 331\u001b[0m \u001b[39mreturn\u001b[39;00m func(\u001b[39m*\u001b[39margs, \u001b[39m*\u001b[39m\u001b[39m*\u001b[39mkwargs)\n",
      "File \u001b[1;32m~\\AppData\\Local\\Packages\\PythonSoftwareFoundation.Python.3.10_qbz5n2kfra8p0\\LocalCache\\local-packages\\Python310\\site-packages\\pandas\\core\\frame.py:6561\u001b[0m, in \u001b[0;36mDataFrame.dropna\u001b[1;34m(self, axis, how, thresh, subset, inplace)\u001b[0m\n\u001b[0;32m   6559\u001b[0m     check \u001b[39m=\u001b[39m indices \u001b[39m==\u001b[39m \u001b[39m-\u001b[39m\u001b[39m1\u001b[39m\n\u001b[0;32m   6560\u001b[0m     \u001b[39mif\u001b[39;00m check\u001b[39m.\u001b[39many():\n\u001b[1;32m-> 6561\u001b[0m         \u001b[39mraise\u001b[39;00m \u001b[39mKeyError\u001b[39;00m(np\u001b[39m.\u001b[39marray(subset)[check]\u001b[39m.\u001b[39mtolist())\n\u001b[0;32m   6562\u001b[0m     agg_obj \u001b[39m=\u001b[39m \u001b[39mself\u001b[39m\u001b[39m.\u001b[39mtake(indices, axis\u001b[39m=\u001b[39magg_axis)\n\u001b[0;32m   6564\u001b[0m \u001b[39mif\u001b[39;00m thresh \u001b[39mis\u001b[39;00m \u001b[39mnot\u001b[39;00m no_default:\n",
      "\u001b[1;31mKeyError\u001b[0m: ['YR']"
     ]
    },
    {
     "data": {
      "image/png": "[encoded data removed]",
      "text/plain": [
       "<Figure size 1800x1400 with 6 Axes>"
      ]
     },
     "metadata": {},
     "output_type": "display_data"
    }
   ],
   "source": [
    "# First n samples to analyze. Set to -1 to use all data\n",
    "end = -1\n",
    "\n",
    "outlier_threshold = 3\n",
    "\n",
    "# \"Choose all data, where the trip length is less than 3 standard deviations away from the mean\"\n",
    "# This is to remove outliers. Otherwise, our plots would look very squished (since there are some\n",
    "# VERRRRRY long taxi trips in the dataset)\n",
    "df_trimmed = df_tr[df_tr[\"LEN\"] < mean + outlier_threshold * std]\n",
    "\n",
    "# Because our y-values only take on multiples of 15, we want just enough buckets in a histogram\n",
    "# such that each buckets counts one value's frequency. (e.x. one bucket counts how many 15s trips, \n",
    "# how many 30s trips, etc. )\n",
    "buckets = (int(mean + outlier_threshold * std) // 15)\n",
    "\n",
    "print(f\"Using: {len(df_trimmed)}/{len(df_tr)}\")\n",
    "\n",
    "fig, axs = plt.subplots(nrows=2, ncols=3, figsize=(18,14))\n",
    "\n",
    "# Now, we visualize some features that we think might be useful\n",
    "for idx, v in enumerate([\"YR\", \"MON\", \"DAY\", \"HR\", \"WK\", \"ORIGIN_STAND\"]):\n",
    "  # idx // 3 = row, idx % 3 = column\n",
    "  ax = axs[idx // 3, idx % 3]\n",
    "  \n",
    "  # Remove any rows with invalid values\n",
    "  df_subset = df_trimmed.dropna(subset=v)\n",
    "  \n",
    "  # Create a histogram. Look up the documentation for more details\n",
    "  ax.hist2d(df_subset[v][:end], df_subset[\"LEN\"][:end], cmap=\"CMRmap\", bins=(120,buckets))\n",
    "  \n",
    "  # Some stylistic things to make the graphs look nice\n",
    "  ax.set_xlim(ax.get_xlim()[0] - 1, ax.get_xlim()[1] + 1)\n",
    "  ax.set_facecolor(\"black\")\n",
    "  ax.set_ylabel(\"seconds\", fontsize=18)\n",
    "  ax.set_title(f\"Feature: {v}\", fontsize=20)\n"
   ]
  },
  {
   "cell_type": "code",
   "execution_count": null,
   "metadata": {},
   "outputs": [],
   "source": [
    "plt.figure(figsize=(10,10))\n",
    "for v in [0, 5, 11, 17, 23]:\n",
    "  # Filter data where the HR matches v\n",
    "  hourly_data = df_trimmed[df_trimmed[\"HR\"] == v][\"LEN\"]\n",
    "  histogram, bin_boundary = np.histogram(hourly_data, bins=buckets)\n",
    "  histogram = histogram / len(hourly_data)\n",
    "  # The center is the left_bound and right_bound of a bucket\n",
    "  bin_centers = [(bin_boundary[i] + bin_boundary[i + 1]) / 2 for i in range(buckets)]\n",
    "  plt.plot(bin_centers, histogram, label=f\"HR={v}\")\n",
    "plt.legend();"
   ]
  },
  {
   "cell_type": "code",
   "execution_count": null,
   "metadata": {},
   "outputs": [],
   "source": []
  }
 ],
 "metadata": {
  "kernelspec": {
   "display_name": "mlenv",
   "language": "python",
   "name": "python3"
  },
  "language_info": {
   "codemirror_mode": {
    "name": "ipython",
    "version": 3
   },
   "file_extension": ".py",
   "mimetype": "text/x-python",
   "name": "python",
   "nbconvert_exporter": "python",
   "pygments_lexer": "ipython3",
   "version": "3.10.11"
  },
  "orig_nbformat": 4
 },
 "nbformat": 4,
 "nbformat_minor": 2
}
