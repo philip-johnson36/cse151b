{
 "cells": [
  {
   "cell_type": "code",
   "execution_count": 14,
   "id": "e994fbbf",
   "metadata": {},
   "outputs": [],
   "source": [
    "#Import libraries\n",
    "import numpy as np, pandas as pd\n",
    "import matplotlib.pyplot as plt\n",
    "from torch.utils.data import DataLoader, Dataset\n",
    "import torch"
   ]
  },
  {
   "cell_type": "code",
   "execution_count": 15,
   "id": "f17023f0",
   "metadata": {},
   "outputs": [],
   "source": [
    "def polyline_to_trip_duration(polyline):\n",
    "  return max(polyline.count(\"[\") - 2, 0) * 15\n",
    "\n",
    "from datetime import datetime\n",
    "import math\n",
    "def parse_time(x):\n",
    "  dt = datetime.fromtimestamp(x['TIMESTAMP'])\n",
    "  return dt.year, dt.month, dt.day, dt.hour, dt.weekday(), dt.timetuple().tm_yday\n",
    "\n",
    "def parse_midnight_minutes(x):\n",
    "    dt = datetime.fromtimestamp(x[\"TIMESTAMP\"])\n",
    "    return (dt.hour * 60 + dt.minute) / 1440\n",
    "\n",
    "metadata = pd.read_csv('archive/metaData_taxistandsID_name_GPSlocation.csv')\n",
    "longlatTable = []\n",
    "for i in range(0, 63):\n",
    "    longlatTable.append([metadata[i:i+1].Latitude.values[0], metadata[i:i+1].Longitude.values[0]])\n",
    "\n",
    "maxLat = np.max(np.array(longlatTable)[:, 0])\n",
    "minLat = np.min(np.array(longlatTable)[:, 0])\n",
    "maxLong = np.max(np.array(longlatTable)[:, 1])\n",
    "minLong = np.min(np.array(longlatTable)[:, 1])\n",
    "\n",
    "def parse_origin_cal_lat_long(x):\n",
    "    if math.isnan(x['ORIGIN_STAND']):\n",
    "        return 0, 0\n",
    "    lat, long = longlatTable[ round(x['ORIGIN_STAND']) - 1][0], longlatTable[round(x['ORIGIN_STAND']) - 1][1]\n",
    "    \n",
    "    return (lat - minLat) / (maxLat - minLat), (long - minLong) / (maxLong - minLong)"
   ]
  },
  {
   "cell_type": "code",
   "execution_count": 16,
   "id": "324a9184",
   "metadata": {},
   "outputs": [],
   "source": [
    "def processCSV(csvname):\n",
    "  xg_train = pd.read_csv(csvname)\n",
    "  df_tr = xg_train\n",
    "  if \"POLYLINE\" not in df_tr: #test dataset\n",
    "    df_tr[\"POLYLINE\"]=\"[[[\"\n",
    "    df_tr[\"LEN\"] = df_tr[\"POLYLINE\"].apply(polyline_to_trip_duration)\n",
    "  else: \n",
    "    df_tr[\"LEN\"] = df_tr[\"POLYLINE\"].apply(polyline_to_trip_duration)\n",
    "    mean, std = df_tr[\"LEN\"].mean(), df_tr[\"LEN\"].std()\n",
    "    median = df_tr[\"LEN\"].median()\n",
    "    outlier_threshold = 3\n",
    "    print(mean, std)\n",
    "    df_trimmed = df_tr[df_tr[\"LEN\"] < mean + outlier_threshold * std]\n",
    "    df_trimmed = df_trimmed[df_trimmed['MISSING_DATA'] == False]\n",
    "    print(\"Before Trimming: \" + str(len(df_tr)))\n",
    "    print(\"After Trimming: \" + str(len(df_trimmed)))\n",
    "    df_tr = df_trimmed\n",
    "    # first trim the dataset\n",
    "\n",
    "  df_tr[[\"YR\", \"MON\", \"DAY\", \"HR\", \"WK\", \"DAYOFYEAR\"]] = df_tr[[\"TIMESTAMP\"]].apply(parse_time, axis=1, result_type=\"expand\")\n",
    "  df_tr[\"MIDMINS\"] = df_tr[[\"TIMESTAMP\"]].apply(parse_midnight_minutes, axis=1, result_type=\"expand\")\n",
    "  \n",
    "  LetterToIndex = {'A': 0, 'B': 1, 'C': 2}\n",
    "  df_trimmed_copy = df_tr\n",
    "  # print('there was ' + str(len(df_trimmed_copy['LEN'] == 0)) + \" zeroes\")\n",
    "  # df_trimmed_copy = df_trimmed_copy[df_trimmed_copy['LEN'] != 0]\n",
    "  y_train = df_trimmed_copy[\"LEN\"]\n",
    "  df_trimmed_copy[\"CALL_TYPE\"] = df_trimmed_copy[\"CALL_TYPE\"].map(LetterToIndex)\n",
    "  # df_trimmed_copy[\"DAY_TYPE\"] = df_trimmed_copy[\"DAY_TYPE\"].map(LetterToIndex)\n",
    "  #took out \"TRIP_ID\"\n",
    "  # x_train = df_trimmed_copy[[\"TRIP_ID\", \"CALL_TYPE\", \"ORIGIN_CALL\", \"ORIGIN_STAND\", \"TAXI_ID\", \"YR\", \"MON\", \"DAY\", \"HR\", \"WK\", \"MIDMINS\"]]\n",
    "  return df_trimmed_copy, y_train"
   ]
  },
  {
   "cell_type": "code",
   "execution_count": 17,
   "id": "35d6d9af",
   "metadata": {},
   "outputs": [
    {
     "name": "stdout",
     "output_type": "stream",
     "text": [
      "716.4264615618442 684.7511617510816\n",
      "Before Trimming: 1710670\n",
      "After Trimming: 1692763\n"
     ]
    }
   ],
   "source": [
    "x_train_unfiltered, y_train = processCSV('archive/train.csv')\n",
    "x_train = x_train_unfiltered[[\"TRIP_ID\", \"CALL_TYPE\", \"ORIGIN_CALL\", \"ORIGIN_STAND\", \"TAXI_ID\", \"YR\", \"MON\", \"HR\", \"WK\", \"DAYOFYEAR\", \"MIDMINS\"]]\n",
    "y_train = x_train_unfiltered['LEN']"
   ]
  },
  {
   "cell_type": "code",
   "execution_count": 18,
   "id": "426ab5d6",
   "metadata": {},
   "outputs": [],
   "source": [
    "#Load in saved best model\n",
    "import xgboost as xgb\n",
    "from xgboost import XGBRegressor\n",
    "from sklearn.model_selection import train_test_split\n",
    "from sklearn.metrics import mean_squared_error\n",
    "\n",
    "xg_model = xgb.Booster()\n",
    "xg_model.load_model('best_performing_model.json')\n"
   ]
  },
  {
   "cell_type": "code",
   "execution_count": 19,
   "id": "60026cb9",
   "metadata": {},
   "outputs": [],
   "source": [
    "#Load in test and convert categorical columns to category in df\n",
    "test_x, test_y = processCSV('archive/test_public.csv')\n",
    "test_x = test_x.drop(columns=[\"DAY_TYPE\", \"MISSING_DATA\", 'POLYLINE', 'LEN', 'TIMESTAMP', 'DAY'])\n",
    "test_x['CALL_TYPE'] = test_x['CALL_TYPE'].astype('category')\n",
    "test_x['ORIGIN_CALL'] = test_x['ORIGIN_CALL'].astype('category')\n",
    "test_x['ORIGIN_STAND'] = test_x['ORIGIN_STAND'].astype('category')\n",
    "test_x['TAXI_ID'] = test_x['TAXI_ID'].astype('category')\n",
    "test_x['YR'] = test_x['YR'].astype('category')\n",
    "test_x['MON'] = test_x['MON'].astype('category')\n",
    "test_x['HR'] = test_x['HR'].astype('category')\n",
    "test_x['WK'] = test_x['WK'].astype('category')\n",
    "test_x['DAYOFYEAR'] = test_x['DAYOFYEAR'].astype('category')\n",
    "y_pred = xg_model.predict(xgb.DMatrix(test_x.drop(columns=['TRIP_ID']), enable_categorical=True))"
   ]
  },
  {
   "cell_type": "code",
   "execution_count": 20,
   "id": "ab9aaa1a",
   "metadata": {},
   "outputs": [],
   "source": [
    "#Convert predictions into a CSV after performing transformation\n",
    "ids = test_x[\"TRIP_ID\"].values\n",
    "for i in range(len(y_pred)):\n",
    "#     y_pred[i] = y_pred[i]\n",
    "    y_pred[i] = max(0, y_pred[i] - 150) #Subtract 150 from each value and change negative values to 0\n",
    "d = {\"TRIP_ID\" : ids, \"TRAVEL_TIME\" : y_pred}\n",
    "newdf = pd.DataFrame(d)\n",
    "newdf.to_csv(\"SeeForYourself.csv\", index=None)"
   ]
  },
  {
   "cell_type": "code",
   "execution_count": 21,
   "id": "667529cc",
   "metadata": {},
   "outputs": [
    {
     "data": {
      "text/plain": [
       "<seaborn.axisgrid.FacetGrid at 0x7f5ed77f9880>"
      ]
     },
     "execution_count": 21,
     "metadata": {},
     "output_type": "execute_result"
    },
    {
     "data": {
      "image/png": "[encoded data removed]",
      "text/plain": [
       "<Figure size 360x360 with 1 Axes>"
      ]
     },
     "metadata": {
      "needs_background": "light"
     },
     "output_type": "display_data"
    }
   ],
   "source": [
    "#Display histogram of results\n",
    "import seaborn as sns\n",
    "sns.displot(y_pred).set(title='Travel Times Generated by Boosted Decision Tree')"
   ]
  }
 ],
 "metadata": {
  "kernelspec": {
   "display_name": "Python 3 (ipykernel)",
   "language": "python",
   "name": "python3"
  },
  "language_info": {
   "codemirror_mode": {
    "name": "ipython",
    "version": 3
   },
   "file_extension": ".py",
   "mimetype": "text/x-python",
   "name": "python",
   "nbconvert_exporter": "python",
   "pygments_lexer": "ipython3",
   "version": "3.9.5"
  }
 },
 "nbformat": 4,
 "nbformat_minor": 5
}
